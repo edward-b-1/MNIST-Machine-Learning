{
 "cells": [
  {
   "cell_type": "markdown",
   "id": "4f5c96c1-726d-4c97-956b-592b8faa118b",
   "metadata": {},
   "source": [
    "# mnist"
   ]
  },
  {
   "cell_type": "code",
   "execution_count": 3,
   "id": "a9fb9695-1efc-40e1-9214-6c1fabea943c",
   "metadata": {},
   "outputs": [],
   "source": [
    "import os\n",
    "os.environ[\"CUDA_DEVICE_ORDER\"] = \"PCI_BUS_ID\"\n",
    "os.environ[\"CUDA_VISIBLE_DEVICES\"] = \"0\""
   ]
  },
  {
   "cell_type": "code",
   "execution_count": 4,
   "id": "b457ab3a-5b27-41dd-b21f-d670f3bd18eb",
   "metadata": {},
   "outputs": [],
   "source": [
    "import numpy"
   ]
  },
  {
   "cell_type": "code",
   "execution_count": 5,
   "id": "739c6f57-c970-46f5-b3b1-f65198fde59b",
   "metadata": {},
   "outputs": [],
   "source": [
    "import matplotlib.pyplot as plt"
   ]
  },
  {
   "cell_type": "code",
   "execution_count": 6,
   "id": "953560cf-bba8-48b7-abbb-258447443f95",
   "metadata": {},
   "outputs": [],
   "source": [
    "import png"
   ]
  },
  {
   "cell_type": "code",
   "execution_count": 7,
   "id": "f29a5bb5-5257-4c2d-81f4-6c59d8267863",
   "metadata": {},
   "outputs": [
    {
     "name": "stderr",
     "output_type": "stream",
     "text": [
      "2025-05-06 19:49:15.293376: I tensorflow/core/util/port.cc:153] oneDNN custom operations are on. You may see slightly different numerical results due to floating-point round-off errors from different computation orders. To turn them off, set the environment variable `TF_ENABLE_ONEDNN_OPTS=0`.\n",
      "2025-05-06 19:49:15.528977: E external/local_xla/xla/stream_executor/cuda/cuda_fft.cc:467] Unable to register cuFFT factory: Attempting to register factory for plugin cuFFT when one has already been registered\n",
      "WARNING: All log messages before absl::InitializeLog() is called are written to STDERR\n",
      "E0000 00:00:1746557355.606730    1421 cuda_dnn.cc:8579] Unable to register cuDNN factory: Attempting to register factory for plugin cuDNN when one has already been registered\n",
      "E0000 00:00:1746557355.633489    1421 cuda_blas.cc:1407] Unable to register cuBLAS factory: Attempting to register factory for plugin cuBLAS when one has already been registered\n",
      "W0000 00:00:1746557355.828137    1421 computation_placer.cc:177] computation placer already registered. Please check linkage and avoid linking the same target more than once.\n",
      "W0000 00:00:1746557355.828180    1421 computation_placer.cc:177] computation placer already registered. Please check linkage and avoid linking the same target more than once.\n",
      "W0000 00:00:1746557355.828181    1421 computation_placer.cc:177] computation placer already registered. Please check linkage and avoid linking the same target more than once.\n",
      "W0000 00:00:1746557355.828182    1421 computation_placer.cc:177] computation placer already registered. Please check linkage and avoid linking the same target more than once.\n",
      "2025-05-06 19:49:15.849940: I tensorflow/core/platform/cpu_feature_guard.cc:210] This TensorFlow binary is optimized to use available CPU instructions in performance-critical operations.\n",
      "To enable the following instructions: AVX2 AVX_VNNI FMA, in other operations, rebuild TensorFlow with the appropriate compiler flags.\n"
     ]
    },
    {
     "name": "stdout",
     "output_type": "stream",
     "text": [
      "[name: \"/device:CPU:0\"\n",
      "device_type: \"CPU\"\n",
      "memory_limit: 268435456\n",
      "locality {\n",
      "}\n",
      "incarnation: 5042897315093628471\n",
      "xla_global_id: -1\n",
      ", name: \"/device:GPU:0\"\n",
      "device_type: \"GPU\"\n",
      "memory_limit: 1789080372\n",
      "locality {\n",
      "  bus_id: 1\n",
      "  links {\n",
      "  }\n",
      "}\n",
      "incarnation: 18298718072748910348\n",
      "physical_device_desc: \"device: 0, name: NVIDIA RTX 500 Ada Generation Laptop GPU, pci bus id: 0000:01:00.0, compute capability: 8.9\"\n",
      "xla_global_id: 416903419\n",
      "]\n"
     ]
    },
    {
     "name": "stderr",
     "output_type": "stream",
     "text": [
      "I0000 00:00:1746557359.645997    1421 gpu_device.cc:2019] Created device /device:GPU:0 with 1706 MB memory:  -> device: 0, name: NVIDIA RTX 500 Ada Generation Laptop GPU, pci bus id: 0000:01:00.0, compute capability: 8.9\n"
     ]
    }
   ],
   "source": [
    "from tensorflow.python.client import device_lib\n",
    "print(device_lib.list_local_devices())"
   ]
  },
  {
   "cell_type": "code",
   "execution_count": 8,
   "id": "f84fa3d2-e50b-4995-8196-6c82cc230a9f",
   "metadata": {},
   "outputs": [
    {
     "data": {
      "text/plain": [
       "[PhysicalDevice(name='/physical_device:GPU:0', device_type='GPU')]"
      ]
     },
     "execution_count": 8,
     "metadata": {},
     "output_type": "execute_result"
    }
   ],
   "source": [
    "import tensorflow\n",
    "tensorflow.config.list_physical_devices('GPU')"
   ]
  },
  {
   "cell_type": "code",
   "execution_count": 9,
   "id": "a798e445-3f76-4191-ae15-49f9cf51740d",
   "metadata": {},
   "outputs": [],
   "source": [
    "from tensorflow import keras\n",
    "from tensorflow.keras import layers"
   ]
  },
  {
   "cell_type": "code",
   "execution_count": 10,
   "id": "0058b60c-2370-47fb-a306-16d0a659d3e8",
   "metadata": {},
   "outputs": [],
   "source": [
    "from tensorflow.keras.datasets import mnist"
   ]
  },
  {
   "cell_type": "code",
   "execution_count": 11,
   "id": "50a06631-c2ab-4b85-9954-aaadc01f3ba2",
   "metadata": {},
   "outputs": [],
   "source": [
    "(train_images, train_labels), (test_images, test_labels) = mnist.load_data()"
   ]
  },
  {
   "cell_type": "code",
   "execution_count": 12,
   "id": "1f35b034-0bd2-4e02-85bc-acb195974b7b",
   "metadata": {},
   "outputs": [
    {
     "data": {
      "text/plain": [
       "(60000, 10000)"
      ]
     },
     "execution_count": 12,
     "metadata": {},
     "output_type": "execute_result"
    }
   ],
   "source": [
    "len(train_labels), len(test_labels)"
   ]
  },
  {
   "cell_type": "code",
   "execution_count": 13,
   "id": "fae4d2f0-9fa7-45b0-8bc5-afc44bd0fd84",
   "metadata": {},
   "outputs": [
    {
     "data": {
      "text/plain": [
       "numpy.uint8"
      ]
     },
     "execution_count": 13,
     "metadata": {},
     "output_type": "execute_result"
    }
   ],
   "source": [
    "type(train_labels[0])"
   ]
  },
  {
   "cell_type": "code",
   "execution_count": 14,
   "id": "5bb9fc52-edb5-491f-9a46-9091055d36be",
   "metadata": {},
   "outputs": [],
   "source": [
    "images = numpy.concatenate((train_images, test_images))"
   ]
  },
  {
   "cell_type": "code",
   "execution_count": 15,
   "id": "24f232ff-681e-43be-97cf-10e247e6fabc",
   "metadata": {},
   "outputs": [
    {
     "data": {
      "text/plain": [
       "70000"
      ]
     },
     "execution_count": 15,
     "metadata": {},
     "output_type": "execute_result"
    }
   ],
   "source": [
    "len(images)"
   ]
  },
  {
   "cell_type": "code",
   "execution_count": 16,
   "id": "99ec92d7-ebd9-4ec9-81e0-91c8a5914b25",
   "metadata": {},
   "outputs": [],
   "source": [
    "labels = numpy.concatenate((train_labels, test_labels))"
   ]
  },
  {
   "cell_type": "code",
   "execution_count": 17,
   "id": "4a0ded75-2636-41b6-a0c3-f676ae85f41c",
   "metadata": {},
   "outputs": [
    {
     "data": {
      "text/plain": [
       "70000"
      ]
     },
     "execution_count": 17,
     "metadata": {},
     "output_type": "execute_result"
    }
   ],
   "source": [
    "len(labels)"
   ]
  },
  {
   "cell_type": "code",
   "execution_count": 18,
   "id": "7758c52c-f6a5-47b0-b241-d0c10392e411",
   "metadata": {},
   "outputs": [],
   "source": [
    "permutation_index = numpy.random.permutation(len(labels))"
   ]
  },
  {
   "cell_type": "code",
   "execution_count": 19,
   "id": "03721b0b-6eb9-47e5-9bc3-45841d1eaccb",
   "metadata": {},
   "outputs": [],
   "source": [
    "permute_images = images[permutation_index]"
   ]
  },
  {
   "cell_type": "code",
   "execution_count": 20,
   "id": "a33fd38c-15c5-4a11-9d96-070071cf08d7",
   "metadata": {},
   "outputs": [],
   "source": [
    "permute_labels = labels[permutation_index]"
   ]
  },
  {
   "cell_type": "code",
   "execution_count": 21,
   "id": "3937ae1b-44bf-4637-95ed-570f23ce16ee",
   "metadata": {},
   "outputs": [],
   "source": [
    "new_train_images = permute_images[0:50000]\n",
    "new_train_labels = permute_labels[0:50000]"
   ]
  },
  {
   "cell_type": "code",
   "execution_count": 22,
   "id": "9b6fb724-5563-43b5-8122-df4e0e230b4d",
   "metadata": {},
   "outputs": [],
   "source": [
    "new_test_images = permute_images[50000:60000]\n",
    "new_test_labels = permute_labels[50000:60000]"
   ]
  },
  {
   "cell_type": "code",
   "execution_count": 23,
   "id": "26771778-ba51-449a-b4ea-088cb4c732dc",
   "metadata": {},
   "outputs": [],
   "source": [
    "new_validation_images = permute_images[60000:]\n",
    "new_validation_labels = permute_labels[60000:]"
   ]
  },
  {
   "cell_type": "markdown",
   "id": "5cbd8149-7516-45af-aa7f-9d628827d2ed",
   "metadata": {},
   "source": [
    "invert the colors"
   ]
  },
  {
   "cell_type": "code",
   "execution_count": 24,
   "id": "60dc3042-2ce8-43e2-bc89-a0c2066bc047",
   "metadata": {},
   "outputs": [],
   "source": [
    "new_train_images = 255 - new_train_images"
   ]
  },
  {
   "cell_type": "code",
   "execution_count": 25,
   "id": "0555595c-0c23-426f-ab40-82326b4dfd0f",
   "metadata": {},
   "outputs": [],
   "source": [
    "new_test_images = 255 - new_test_images"
   ]
  },
  {
   "cell_type": "code",
   "execution_count": 26,
   "id": "8ef603ad-d0e1-4214-aa18-957913ecb5d4",
   "metadata": {},
   "outputs": [],
   "source": [
    "new_validation_images = 255 - new_validation_images"
   ]
  },
  {
   "cell_type": "markdown",
   "id": "48819e7c-b7d8-463f-a154-28130542042a",
   "metadata": {},
   "source": [
    "example: how to produce a single png image"
   ]
  },
  {
   "cell_type": "code",
   "execution_count": 27,
   "id": "6e57bef0-3c1a-45e7-954d-bb2f7c53853b",
   "metadata": {},
   "outputs": [
    {
     "data": {
      "text/plain": [
       "(28, 28)"
      ]
     },
     "execution_count": 27,
     "metadata": {},
     "output_type": "execute_result"
    }
   ],
   "source": [
    "image = new_train_images[0]\n",
    "image.shape"
   ]
  },
  {
   "cell_type": "code",
   "execution_count": 28,
   "id": "03c79b62-086c-46c1-97ad-b998c9ef7776",
   "metadata": {},
   "outputs": [
    {
     "data": {
      "text/plain": [
       "numpy.uint8"
      ]
     },
     "execution_count": 28,
     "metadata": {},
     "output_type": "execute_result"
    }
   ],
   "source": [
    "type(image[0][0])"
   ]
  },
  {
   "cell_type": "code",
   "execution_count": 26,
   "id": "52860fc9-222a-49d2-a1a5-208ae25a0433",
   "metadata": {},
   "outputs": [],
   "source": [
    "writer = png.Writer(width=28, height=28, bitdepth=8, greyscale=True)\n",
    "with open('output.png', 'wb') as f:\n",
    "    writer.write(f, numpy.reshape(image, shape=(28,28)))"
   ]
  },
  {
   "cell_type": "code",
   "execution_count": null,
   "id": "1f12a34d-39ba-40c7-badf-47704acb2690",
   "metadata": {},
   "outputs": [],
   "source": [
    "png.from_array(numpy.reshape(image, shape=(28,28)), 'L')"
   ]
  },
  {
   "cell_type": "code",
   "execution_count": 29,
   "id": "c87edc97-fb31-4a4c-b642-e3ecb7a50411",
   "metadata": {},
   "outputs": [
    {
     "data": {
      "text/plain": [
       "np.int64(67990)"
      ]
     },
     "execution_count": 29,
     "metadata": {},
     "output_type": "execute_result"
    }
   ],
   "source": [
    "permutation_index[0]\n",
    "\n",
    "# 53912 is weird looking"
   ]
  },
  {
   "cell_type": "markdown",
   "id": "e5438c37-d786-45d1-8213-e2b5e99824ad",
   "metadata": {},
   "source": [
    "select first digits 0-9"
   ]
  },
  {
   "cell_type": "code",
   "execution_count": 30,
   "id": "072bd2f4-41de-49a4-a0b6-f4e84dd51f29",
   "metadata": {},
   "outputs": [
    {
     "data": {
      "text/plain": [
       "array([ 2,  0,  3,  7,  5, 23, 12,  1, 28, 14])"
      ]
     },
     "execution_count": 30,
     "metadata": {},
     "output_type": "execute_result"
    }
   ],
   "source": [
    "digit_index = numpy.array([], dtype=numpy.int64)\n",
    "for digit in range(10):\n",
    "    digit_index = numpy.append(digit_index, numpy.where(new_train_labels == digit)[0][0])\n",
    "\n",
    "digit_index"
   ]
  },
  {
   "cell_type": "code",
   "execution_count": null,
   "id": "4db5cdd4-d0be-414b-a6d2-f97f26a559e8",
   "metadata": {},
   "outputs": [],
   "source": [
    "# is now working, but below more efficient\n",
    "all_digit_image = numpy.reshape(numpy.array([], dtype=numpy.uint8), shape=(0,28))\n",
    "print(all_digit_image)\n",
    "\n",
    "for digit_index_ in numpy.nditer(digit_index):\n",
    "    digit_image = new_train_images[digit_index_]\n",
    "    digit_image_reshape = numpy.reshape(digit_image, shape=(28,28))\n",
    "    all_digit_image = numpy.concatenate((all_digit_image, digit_image_reshape), axis=0)\n",
    "\n",
    "writer = png.Writer(width=all_digit_image.shape[1], height=all_digit_image.shape[0], bitdepth=8, greyscale=True)\n",
    "with open('all_digit_image_0.png', 'wb') as ofile:\n",
    "    writer.write(ofile, all_digit_image)"
   ]
  },
  {
   "cell_type": "code",
   "execution_count": 31,
   "id": "fdfa467e-bba0-41be-9a81-34e641ef9afa",
   "metadata": {},
   "outputs": [
    {
     "data": {
      "text/plain": [
       "array([ 2,  0,  3,  7,  5, 23, 12,  1, 28, 14])"
      ]
     },
     "execution_count": 31,
     "metadata": {},
     "output_type": "execute_result"
    }
   ],
   "source": [
    "digit_index"
   ]
  },
  {
   "cell_type": "code",
   "execution_count": 33,
   "id": "519ff193-3cf7-4df3-9287-bf462bcbc34f",
   "metadata": {},
   "outputs": [
    {
     "data": {
      "text/plain": [
       "10"
      ]
     },
     "execution_count": 33,
     "metadata": {},
     "output_type": "execute_result"
    }
   ],
   "source": [
    "all_digit_images = []\n",
    "\n",
    "for digit_index_ in numpy.nditer(digit_index):\n",
    "    digit_image = new_train_images[digit_index_]\n",
    "    digit_image_reshape = numpy.reshape(digit_image, shape=(28,28))\n",
    "    all_digit_images.append(digit_image_reshape)\n",
    "\n",
    "len(all_digit_images)"
   ]
  },
  {
   "cell_type": "code",
   "execution_count": 34,
   "id": "8dc6613d-de12-4e59-b30d-801fcccbdd8e",
   "metadata": {},
   "outputs": [
    {
     "data": {
      "text/plain": [
       "(280, 28)"
      ]
     },
     "execution_count": 34,
     "metadata": {},
     "output_type": "execute_result"
    }
   ],
   "source": [
    "all_digit_image = numpy.concatenate(all_digit_images)\n",
    "all_digit_image.shape"
   ]
  },
  {
   "cell_type": "code",
   "execution_count": 129,
   "id": "6c17e6fa-db32-4941-8dc7-8046d455a996",
   "metadata": {},
   "outputs": [],
   "source": [
    "writer = png.Writer(width=all_digit_image.shape[1], height=all_digit_image.shape[0], bitdepth=8, greyscale=True)\n",
    "with open('all_digit_image.png', 'wb') as ofile:\n",
    "    writer.write(ofile, all_digit_image)"
   ]
  },
  {
   "cell_type": "markdown",
   "id": "92f39b40-de59-4669-970d-f532de23aa40",
   "metadata": {},
   "source": [
    "print the first 100 digits, with their index, and their label"
   ]
  },
  {
   "cell_type": "code",
   "execution_count": 113,
   "id": "76884e32-6422-4328-a9a4-49bfa9057171",
   "metadata": {},
   "outputs": [],
   "source": [
    "size_y = 100\n",
    "size_x = 10\n",
    "\n",
    "tmp = numpy.full((size_y*28, size_x*28), 255, dtype=numpy.uint8)\n",
    "\n",
    "for i in range(size_y):\n",
    "    i_string = f'{i}'\n",
    "    \n",
    "    oix_x = 28 * 0\n",
    "    oix_y = 28 * i\n",
    "\n",
    "    # print the index number\n",
    "    for i_string_char in i_string:\n",
    "        i_string_char_int = int(i_string_char) - int('0')\n",
    "        #print(f'character is: {i_string_char}, {i_string_char_int}')\n",
    "        tmp[oix_y:oix_y+28, oix_x:oix_x+28] = new_train_images[digit_index[i_string_char_int]]\n",
    "        oix_x += 28\n",
    "\n",
    "    oix_x = 28 * 5 # assumes max 5 chars for index\n",
    "    oix_x += 28 # leave a space\n",
    "\n",
    "    # print the label\n",
    "    i_label = new_train_labels[i]\n",
    "    tmp[oix_y:oix_y+28, oix_x:oix_x+28] = new_train_images[digit_index[i_label]]\n",
    "\n",
    "    oix_x += 28 * 2\n",
    "    \n",
    "    # print the actual image observed\n",
    "    tmp[oix_y:oix_y+28, oix_x:oix_x+28] = new_train_images[i]\n",
    "\n",
    "    oix_x = 28 * 0\n",
    "    oix_y += 28\n",
    "    #break\n",
    "\n",
    "writer = png.Writer(width=tmp.shape[1], height=tmp.shape[0], bitdepth=8, greyscale=True)\n",
    "with open('tmp.png', 'wb') as ofile:\n",
    "    writer.write(ofile, tmp)"
   ]
  },
  {
   "cell_type": "markdown",
   "id": "7c9fd405-33af-4e85-995b-6ce5a061ddb9",
   "metadata": {},
   "source": [
    "train neural net"
   ]
  },
  {
   "cell_type": "code",
   "execution_count": 35,
   "id": "fa72856d-c40a-474b-8f78-c1a2607d1c0b",
   "metadata": {},
   "outputs": [
    {
     "name": "stdout",
     "output_type": "stream",
     "text": [
      "layer size: 10\n"
     ]
    },
    {
     "name": "stderr",
     "output_type": "stream",
     "text": [
      "I0000 00:00:1746557419.105843    1421 gpu_device.cc:2019] Created device /job:localhost/replica:0/task:0/device:GPU:0 with 1706 MB memory:  -> device: 0, name: NVIDIA RTX 500 Ada Generation Laptop GPU, pci bus id: 0000:01:00.0, compute capability: 8.9\n"
     ]
    }
   ],
   "source": [
    "# this is my model\n",
    "layer_size = 10 #28\n",
    "print(f'layer size: {layer_size}')\n",
    "\n",
    "model = keras.Sequential([\n",
    "    layers.Dense(layer_size, activation='relu'),\n",
    "    layers.Dense(10, activation='softmax'),\n",
    "])\n",
    "\n",
    "model.compile(optimizer='rmsprop', loss='sparse_categorical_crossentropy', metrics=['accuracy'])"
   ]
  },
  {
   "cell_type": "code",
   "execution_count": 158,
   "id": "4a43f598-af67-4f0d-9a47-c18e507c42d2",
   "metadata": {},
   "outputs": [],
   "source": [
    "# this is the original model\n",
    "model = keras.Sequential([\n",
    "    layers.Dense(512, activation=\"relu\"),\n",
    "    layers.Dense(10, activation=\"softmax\")\n",
    "])\n",
    "\n",
    "model.compile(optimizer='rmsprop', loss='sparse_categorical_crossentropy', metrics=['accuracy'])"
   ]
  },
  {
   "cell_type": "code",
   "execution_count": 36,
   "id": "59ad6722-d330-49cf-853a-a806d6ef74b8",
   "metadata": {},
   "outputs": [],
   "source": [
    "new_train_images_float = new_train_images.astype('float32') / 255.0\n",
    "new_test_images_float = new_test_images.astype('float32') / 255.0\n",
    "new_validation_images_float = new_validation_images.astype('float32') / 255.0"
   ]
  },
  {
   "cell_type": "code",
   "execution_count": 37,
   "id": "163b4667-67f5-4c88-85ec-6d00b172500f",
   "metadata": {},
   "outputs": [],
   "source": [
    "new_train_images_float = new_train_images_float.reshape((new_train_images_float.shape[0], new_train_images_float.shape[1]*new_train_images_float.shape[2]))\n",
    "new_test_images_float = new_test_images_float.reshape((new_test_images_float.shape[0], new_test_images_float.shape[1]*new_test_images_float.shape[2]))\n",
    "new_validation_images_float = new_validation_images_float.reshape((new_validation_images_float.shape[0], new_validation_images_float.shape[1]*new_validation_images_float.shape[2]))"
   ]
  },
  {
   "cell_type": "code",
   "execution_count": 38,
   "id": "85fc11c9-9fe2-4584-8fc1-77c743000e3a",
   "metadata": {},
   "outputs": [
    {
     "data": {
      "text/plain": [
       "(50000, 784)"
      ]
     },
     "execution_count": 38,
     "metadata": {},
     "output_type": "execute_result"
    }
   ],
   "source": [
    "new_train_images_float.shape"
   ]
  },
  {
   "cell_type": "code",
   "execution_count": 39,
   "id": "99f3b9eb-bf02-476f-94e6-9a614bf76ba6",
   "metadata": {},
   "outputs": [
    {
     "data": {
      "text/plain": [
       "(50000,)"
      ]
     },
     "execution_count": 39,
     "metadata": {},
     "output_type": "execute_result"
    }
   ],
   "source": [
    "new_train_labels.shape"
   ]
  },
  {
   "cell_type": "code",
   "execution_count": 40,
   "id": "a4d4852f-ac28-4e31-8b00-cb6e59b5382f",
   "metadata": {},
   "outputs": [
    {
     "data": {
      "text/plain": [
       "numpy.ndarray"
      ]
     },
     "execution_count": 40,
     "metadata": {},
     "output_type": "execute_result"
    }
   ],
   "source": [
    "type(new_train_labels)"
   ]
  },
  {
   "cell_type": "code",
   "execution_count": 41,
   "id": "35c60707-88c3-4a3e-bd20-26f62aa4ec2f",
   "metadata": {},
   "outputs": [
    {
     "data": {
      "text/plain": [
       "numpy.ndarray"
      ]
     },
     "execution_count": 41,
     "metadata": {},
     "output_type": "execute_result"
    }
   ],
   "source": [
    "type(new_train_images_float)"
   ]
  },
  {
   "cell_type": "code",
   "execution_count": 42,
   "id": "da55989b-f787-4fd3-b5b4-0f84a1abb144",
   "metadata": {},
   "outputs": [
    {
     "data": {
      "text/plain": [
       "dtype('uint8')"
      ]
     },
     "execution_count": 42,
     "metadata": {},
     "output_type": "execute_result"
    }
   ],
   "source": [
    "new_train_labels.dtype"
   ]
  },
  {
   "cell_type": "code",
   "execution_count": 43,
   "id": "da000e11-7277-4e5c-824e-1a74289757e0",
   "metadata": {},
   "outputs": [
    {
     "data": {
      "text/plain": [
       "dtype('float32')"
      ]
     },
     "execution_count": 43,
     "metadata": {},
     "output_type": "execute_result"
    }
   ],
   "source": [
    "new_train_images_float.dtype"
   ]
  },
  {
   "cell_type": "code",
   "execution_count": 44,
   "id": "67fd4de4-fc99-4930-a718-4dc492d80a47",
   "metadata": {},
   "outputs": [
    {
     "data": {
      "text/plain": [
       "array([1, 7, 0, ..., 7, 4, 0], dtype=uint8)"
      ]
     },
     "execution_count": 44,
     "metadata": {},
     "output_type": "execute_result"
    }
   ],
   "source": [
    "new_train_labels"
   ]
  },
  {
   "cell_type": "code",
   "execution_count": 45,
   "id": "dee14424-5a8b-4068-a517-381ee3f84f69",
   "metadata": {},
   "outputs": [
    {
     "data": {
      "text/plain": [
       "array([[1., 1., 1., ..., 1., 1., 1.],\n",
       "       [1., 1., 1., ..., 1., 1., 1.],\n",
       "       [1., 1., 1., ..., 1., 1., 1.],\n",
       "       ...,\n",
       "       [1., 1., 1., ..., 1., 1., 1.],\n",
       "       [1., 1., 1., ..., 1., 1., 1.],\n",
       "       [1., 1., 1., ..., 1., 1., 1.]], dtype=float32)"
      ]
     },
     "execution_count": 45,
     "metadata": {},
     "output_type": "execute_result"
    }
   ],
   "source": [
    "new_train_images_float"
   ]
  },
  {
   "cell_type": "code",
   "execution_count": 46,
   "id": "bf0c0807-62d7-4f60-a5f3-3d6b7164bd07",
   "metadata": {
    "scrolled": true
   },
   "outputs": [
    {
     "name": "stdout",
     "output_type": "stream",
     "text": [
      "Epoch 1/200\n"
     ]
    },
    {
     "name": "stderr",
     "output_type": "stream",
     "text": [
      "WARNING: All log messages before absl::InitializeLog() is called are written to STDERR\n",
      "I0000 00:00:1746557456.008953    1766 service.cc:152] XLA service 0x7fec14013ef0 initialized for platform CUDA (this does not guarantee that XLA will be used). Devices:\n",
      "I0000 00:00:1746557456.008999    1766 service.cc:160]   StreamExecutor device (0): NVIDIA RTX 500 Ada Generation Laptop GPU, Compute Capability 8.9\n",
      "2025-05-06 19:50:56.058472: I tensorflow/compiler/mlir/tensorflow/utils/dump_mlir_util.cc:269] disabling MLIR crash reproducer, set env var `MLIR_CRASH_REPRODUCER_DIRECTORY` to enable.\n",
      "I0000 00:00:1746557456.158482    1766 cuda_dnn.cc:529] Loaded cuDNN version 90300\n",
      "2025-05-06 19:50:57.129304: I external/local_xla/xla/stream_executor/cuda/subprocess_compilation.cc:346] ptxas warning : Registers are spilled to local memory in function 'gemm_fusion_dot_185', 320 bytes spill stores, 320 bytes spill loads\n",
      "\n",
      "2025-05-06 19:50:57.271325: I external/local_xla/xla/stream_executor/cuda/subprocess_compilation.cc:346] ptxas warning : Registers are spilled to local memory in function 'gemm_fusion_dot_185', 88 bytes spill stores, 88 bytes spill loads\n",
      "\n"
     ]
    },
    {
     "name": "stdout",
     "output_type": "stream",
     "text": [
      "\u001b[1m73/98\u001b[0m \u001b[32m━━━━━━━━━━━━━━\u001b[0m\u001b[37m━━━━━━\u001b[0m \u001b[1m0s\u001b[0m 2ms/step - accuracy: 0.1575 - loss: 2.2507"
     ]
    },
    {
     "name": "stderr",
     "output_type": "stream",
     "text": [
      "I0000 00:00:1746557457.823824    1766 device_compiler.h:188] Compiled cluster using XLA!  This line is logged at most once for the lifetime of the process.\n"
     ]
    },
    {
     "name": "stdout",
     "output_type": "stream",
     "text": [
      "\u001b[1m96/98\u001b[0m \u001b[32m━━━━━━━━━━━━━━━━━━━\u001b[0m\u001b[37m━\u001b[0m \u001b[1m0s\u001b[0m 2ms/step - accuracy: 0.1742 - loss: 2.2163"
     ]
    },
    {
     "name": "stderr",
     "output_type": "stream",
     "text": [
      "2025-05-06 19:50:58.896207: I external/local_xla/xla/stream_executor/cuda/subprocess_compilation.cc:346] ptxas warning : Registers are spilled to local memory in function 'gemm_fusion_dot_185', 228 bytes spill stores, 228 bytes spill loads\n",
      "\n",
      "2025-05-06 19:50:59.055932: I external/local_xla/xla/stream_executor/cuda/subprocess_compilation.cc:346] ptxas warning : Registers are spilled to local memory in function 'gemm_fusion_dot_185', 228 bytes spill stores, 228 bytes spill loads\n",
      "\n"
     ]
    },
    {
     "name": "stdout",
     "output_type": "stream",
     "text": [
      "\u001b[1m98/98\u001b[0m \u001b[32m━━━━━━━━━━━━━━━━━━━━\u001b[0m\u001b[37m\u001b[0m \u001b[1m4s\u001b[0m 20ms/step - accuracy: 0.1763 - loss: 2.2120\n",
      "Epoch 2/200\n",
      "\u001b[1m98/98\u001b[0m \u001b[32m━━━━━━━━━━━━━━━━━━━━\u001b[0m\u001b[37m\u001b[0m \u001b[1m0s\u001b[0m 2ms/step - accuracy: 0.3873 - loss: 1.7754\n",
      "Epoch 3/200\n",
      "\u001b[1m98/98\u001b[0m \u001b[32m━━━━━━━━━━━━━━━━━━━━\u001b[0m\u001b[37m\u001b[0m \u001b[1m0s\u001b[0m 2ms/step - accuracy: 0.5699 - loss: 1.4197\n",
      "Epoch 4/200\n",
      "\u001b[1m98/98\u001b[0m \u001b[32m━━━━━━━━━━━━━━━━━━━━\u001b[0m\u001b[37m\u001b[0m \u001b[1m0s\u001b[0m 2ms/step - accuracy: 0.6332 - loss: 1.1649\n",
      "Epoch 5/200\n",
      "\u001b[1m98/98\u001b[0m \u001b[32m━━━━━━━━━━━━━━━━━━━━\u001b[0m\u001b[37m\u001b[0m \u001b[1m0s\u001b[0m 2ms/step - accuracy: 0.6750 - loss: 1.0008\n",
      "Epoch 6/200\n",
      "\u001b[1m98/98\u001b[0m \u001b[32m━━━━━━━━━━━━━━━━━━━━\u001b[0m\u001b[37m\u001b[0m \u001b[1m0s\u001b[0m 2ms/step - accuracy: 0.7113 - loss: 0.8905\n",
      "Epoch 7/200\n",
      "\u001b[1m98/98\u001b[0m \u001b[32m━━━━━━━━━━━━━━━━━━━━\u001b[0m\u001b[37m\u001b[0m \u001b[1m0s\u001b[0m 2ms/step - accuracy: 0.7366 - loss: 0.8161\n",
      "Epoch 8/200\n",
      "\u001b[1m98/98\u001b[0m \u001b[32m━━━━━━━━━━━━━━━━━━━━\u001b[0m\u001b[37m\u001b[0m \u001b[1m0s\u001b[0m 2ms/step - accuracy: 0.7540 - loss: 0.7710\n",
      "Epoch 9/200\n",
      "\u001b[1m98/98\u001b[0m \u001b[32m━━━━━━━━━━━━━━━━━━━━\u001b[0m\u001b[37m\u001b[0m \u001b[1m0s\u001b[0m 2ms/step - accuracy: 0.7685 - loss: 0.7285\n",
      "Epoch 10/200\n",
      "\u001b[1m98/98\u001b[0m \u001b[32m━━━━━━━━━━━━━━━━━━━━\u001b[0m\u001b[37m\u001b[0m \u001b[1m0s\u001b[0m 2ms/step - accuracy: 0.7855 - loss: 0.6890\n",
      "Epoch 11/200\n",
      "\u001b[1m98/98\u001b[0m \u001b[32m━━━━━━━━━━━━━━━━━━━━\u001b[0m\u001b[37m\u001b[0m \u001b[1m0s\u001b[0m 2ms/step - accuracy: 0.7955 - loss: 0.6551\n",
      "Epoch 12/200\n",
      "\u001b[1m98/98\u001b[0m \u001b[32m━━━━━━━━━━━━━━━━━━━━\u001b[0m\u001b[37m\u001b[0m \u001b[1m0s\u001b[0m 2ms/step - accuracy: 0.8047 - loss: 0.6376\n",
      "Epoch 13/200\n",
      "\u001b[1m98/98\u001b[0m \u001b[32m━━━━━━━━━━━━━━━━━━━━\u001b[0m\u001b[37m\u001b[0m \u001b[1m0s\u001b[0m 2ms/step - accuracy: 0.8121 - loss: 0.6130\n",
      "Epoch 14/200\n",
      "\u001b[1m98/98\u001b[0m \u001b[32m━━━━━━━━━━━━━━━━━━━━\u001b[0m\u001b[37m\u001b[0m \u001b[1m0s\u001b[0m 3ms/step - accuracy: 0.8113 - loss: 0.6086\n",
      "Epoch 15/200\n",
      "\u001b[1m98/98\u001b[0m \u001b[32m━━━━━━━━━━━━━━━━━━━━\u001b[0m\u001b[37m\u001b[0m \u001b[1m0s\u001b[0m 3ms/step - accuracy: 0.8181 - loss: 0.5942\n",
      "Epoch 16/200\n",
      "\u001b[1m98/98\u001b[0m \u001b[32m━━━━━━━━━━━━━━━━━━━━\u001b[0m\u001b[37m\u001b[0m \u001b[1m0s\u001b[0m 3ms/step - accuracy: 0.8241 - loss: 0.5817\n",
      "Epoch 17/200\n",
      "\u001b[1m98/98\u001b[0m \u001b[32m━━━━━━━━━━━━━━━━━━━━\u001b[0m\u001b[37m\u001b[0m \u001b[1m0s\u001b[0m 3ms/step - accuracy: 0.8257 - loss: 0.5769\n",
      "Epoch 18/200\n",
      "\u001b[1m98/98\u001b[0m \u001b[32m━━━━━━━━━━━━━━━━━━━━\u001b[0m\u001b[37m\u001b[0m \u001b[1m0s\u001b[0m 2ms/step - accuracy: 0.8315 - loss: 0.5605\n",
      "Epoch 19/200\n",
      "\u001b[1m98/98\u001b[0m \u001b[32m━━━━━━━━━━━━━━━━━━━━\u001b[0m\u001b[37m\u001b[0m \u001b[1m0s\u001b[0m 3ms/step - accuracy: 0.8369 - loss: 0.5500\n",
      "Epoch 20/200\n",
      "\u001b[1m98/98\u001b[0m \u001b[32m━━━━━━━━━━━━━━━━━━━━\u001b[0m\u001b[37m\u001b[0m \u001b[1m0s\u001b[0m 3ms/step - accuracy: 0.8326 - loss: 0.5542\n",
      "Epoch 21/200\n",
      "\u001b[1m98/98\u001b[0m \u001b[32m━━━━━━━━━━━━━━━━━━━━\u001b[0m\u001b[37m\u001b[0m \u001b[1m0s\u001b[0m 3ms/step - accuracy: 0.8352 - loss: 0.5476\n",
      "Epoch 22/200\n",
      "\u001b[1m98/98\u001b[0m \u001b[32m━━━━━━━━━━━━━━━━━━━━\u001b[0m\u001b[37m\u001b[0m \u001b[1m0s\u001b[0m 3ms/step - accuracy: 0.8392 - loss: 0.5378\n",
      "Epoch 23/200\n",
      "\u001b[1m98/98\u001b[0m \u001b[32m━━━━━━━━━━━━━━━━━━━━\u001b[0m\u001b[37m\u001b[0m \u001b[1m0s\u001b[0m 2ms/step - accuracy: 0.8416 - loss: 0.5260\n",
      "Epoch 24/200\n",
      "\u001b[1m98/98\u001b[0m \u001b[32m━━━━━━━━━━━━━━━━━━━━\u001b[0m\u001b[37m\u001b[0m \u001b[1m0s\u001b[0m 3ms/step - accuracy: 0.8435 - loss: 0.5244\n",
      "Epoch 25/200\n",
      "\u001b[1m98/98\u001b[0m \u001b[32m━━━━━━━━━━━━━━━━━━━━\u001b[0m\u001b[37m\u001b[0m \u001b[1m0s\u001b[0m 2ms/step - accuracy: 0.8415 - loss: 0.5282\n",
      "Epoch 26/200\n",
      "\u001b[1m98/98\u001b[0m \u001b[32m━━━━━━━━━━━━━━━━━━━━\u001b[0m\u001b[37m\u001b[0m \u001b[1m0s\u001b[0m 3ms/step - accuracy: 0.8462 - loss: 0.5158\n",
      "Epoch 27/200\n",
      "\u001b[1m98/98\u001b[0m \u001b[32m━━━━━━━━━━━━━━━━━━━━\u001b[0m\u001b[37m\u001b[0m \u001b[1m0s\u001b[0m 3ms/step - accuracy: 0.8486 - loss: 0.5137\n",
      "Epoch 28/200\n",
      "\u001b[1m98/98\u001b[0m \u001b[32m━━━━━━━━━━━━━━━━━━━━\u001b[0m\u001b[37m\u001b[0m \u001b[1m0s\u001b[0m 2ms/step - accuracy: 0.8486 - loss: 0.5139\n",
      "Epoch 29/200\n",
      "\u001b[1m98/98\u001b[0m \u001b[32m━━━━━━━━━━━━━━━━━━━━\u001b[0m\u001b[37m\u001b[0m \u001b[1m0s\u001b[0m 3ms/step - accuracy: 0.8492 - loss: 0.5106\n",
      "Epoch 30/200\n",
      "\u001b[1m98/98\u001b[0m \u001b[32m━━━━━━━━━━━━━━━━━━━━\u001b[0m\u001b[37m\u001b[0m \u001b[1m0s\u001b[0m 3ms/step - accuracy: 0.8469 - loss: 0.5128\n",
      "Epoch 31/200\n",
      "\u001b[1m98/98\u001b[0m \u001b[32m━━━━━━━━━━━━━━━━━━━━\u001b[0m\u001b[37m\u001b[0m \u001b[1m0s\u001b[0m 3ms/step - accuracy: 0.8525 - loss: 0.4970\n",
      "Epoch 32/200\n",
      "\u001b[1m98/98\u001b[0m \u001b[32m━━━━━━━━━━━━━━━━━━━━\u001b[0m\u001b[37m\u001b[0m \u001b[1m0s\u001b[0m 2ms/step - accuracy: 0.8491 - loss: 0.5057\n",
      "Epoch 33/200\n",
      "\u001b[1m98/98\u001b[0m \u001b[32m━━━━━━━━━━━━━━━━━━━━\u001b[0m\u001b[37m\u001b[0m \u001b[1m0s\u001b[0m 2ms/step - accuracy: 0.8504 - loss: 0.5064\n",
      "Epoch 34/200\n",
      "\u001b[1m98/98\u001b[0m \u001b[32m━━━━━━━━━━━━━━━━━━━━\u001b[0m\u001b[37m\u001b[0m \u001b[1m0s\u001b[0m 3ms/step - accuracy: 0.8560 - loss: 0.4869\n",
      "Epoch 35/200\n",
      "\u001b[1m98/98\u001b[0m \u001b[32m━━━━━━━━━━━━━━━━━━━━\u001b[0m\u001b[37m\u001b[0m \u001b[1m0s\u001b[0m 3ms/step - accuracy: 0.8547 - loss: 0.4911\n",
      "Epoch 36/200\n",
      "\u001b[1m98/98\u001b[0m \u001b[32m━━━━━━━━━━━━━━━━━━━━\u001b[0m\u001b[37m\u001b[0m \u001b[1m0s\u001b[0m 3ms/step - accuracy: 0.8586 - loss: 0.4862\n",
      "Epoch 37/200\n",
      "\u001b[1m98/98\u001b[0m \u001b[32m━━━━━━━━━━━━━━━━━━━━\u001b[0m\u001b[37m\u001b[0m \u001b[1m0s\u001b[0m 3ms/step - accuracy: 0.8591 - loss: 0.4781\n",
      "Epoch 38/200\n",
      "\u001b[1m98/98\u001b[0m \u001b[32m━━━━━━━━━━━━━━━━━━━━\u001b[0m\u001b[37m\u001b[0m \u001b[1m0s\u001b[0m 3ms/step - accuracy: 0.8587 - loss: 0.4814\n",
      "Epoch 39/200\n",
      "\u001b[1m98/98\u001b[0m \u001b[32m━━━━━━━━━━━━━━━━━━━━\u001b[0m\u001b[37m\u001b[0m \u001b[1m0s\u001b[0m 3ms/step - accuracy: 0.8611 - loss: 0.4749\n",
      "Epoch 40/200\n",
      "\u001b[1m98/98\u001b[0m \u001b[32m━━━━━━━━━━━━━━━━━━━━\u001b[0m\u001b[37m\u001b[0m \u001b[1m0s\u001b[0m 2ms/step - accuracy: 0.8612 - loss: 0.4764\n",
      "Epoch 41/200\n",
      "\u001b[1m98/98\u001b[0m \u001b[32m━━━━━━━━━━━━━━━━━━━━\u001b[0m\u001b[37m\u001b[0m \u001b[1m0s\u001b[0m 2ms/step - accuracy: 0.8604 - loss: 0.4723\n",
      "Epoch 42/200\n",
      "\u001b[1m98/98\u001b[0m \u001b[32m━━━━━━━━━━━━━━━━━━━━\u001b[0m\u001b[37m\u001b[0m \u001b[1m0s\u001b[0m 3ms/step - accuracy: 0.8630 - loss: 0.4673\n",
      "Epoch 43/200\n",
      "\u001b[1m98/98\u001b[0m \u001b[32m━━━━━━━━━━━━━━━━━━━━\u001b[0m\u001b[37m\u001b[0m \u001b[1m0s\u001b[0m 3ms/step - accuracy: 0.8633 - loss: 0.4646\n",
      "Epoch 44/200\n",
      "\u001b[1m98/98\u001b[0m \u001b[32m━━━━━━━━━━━━━━━━━━━━\u001b[0m\u001b[37m\u001b[0m \u001b[1m0s\u001b[0m 3ms/step - accuracy: 0.8655 - loss: 0.4667\n",
      "Epoch 45/200\n",
      "\u001b[1m98/98\u001b[0m \u001b[32m━━━━━━━━━━━━━━━━━━━━\u001b[0m\u001b[37m\u001b[0m \u001b[1m0s\u001b[0m 3ms/step - accuracy: 0.8655 - loss: 0.4609\n",
      "Epoch 46/200\n",
      "\u001b[1m98/98\u001b[0m \u001b[32m━━━━━━━━━━━━━━━━━━━━\u001b[0m\u001b[37m\u001b[0m \u001b[1m0s\u001b[0m 3ms/step - accuracy: 0.8672 - loss: 0.4577\n",
      "Epoch 47/200\n",
      "\u001b[1m98/98\u001b[0m \u001b[32m━━━━━━━━━━━━━━━━━━━━\u001b[0m\u001b[37m\u001b[0m \u001b[1m0s\u001b[0m 3ms/step - accuracy: 0.8676 - loss: 0.4592\n",
      "Epoch 48/200\n",
      "\u001b[1m98/98\u001b[0m \u001b[32m━━━━━━━━━━━━━━━━━━━━\u001b[0m\u001b[37m\u001b[0m \u001b[1m0s\u001b[0m 3ms/step - accuracy: 0.8670 - loss: 0.4593\n",
      "Epoch 49/200\n",
      "\u001b[1m98/98\u001b[0m \u001b[32m━━━━━━━━━━━━━━━━━━━━\u001b[0m\u001b[37m\u001b[0m \u001b[1m0s\u001b[0m 3ms/step - accuracy: 0.8659 - loss: 0.4663\n",
      "Epoch 50/200\n",
      "\u001b[1m98/98\u001b[0m \u001b[32m━━━━━━━━━━━━━━━━━━━━\u001b[0m\u001b[37m\u001b[0m \u001b[1m0s\u001b[0m 2ms/step - accuracy: 0.8687 - loss: 0.4551\n",
      "Epoch 51/200\n",
      "\u001b[1m98/98\u001b[0m \u001b[32m━━━━━━━━━━━━━━━━━━━━\u001b[0m\u001b[37m\u001b[0m \u001b[1m0s\u001b[0m 3ms/step - accuracy: 0.8678 - loss: 0.4549\n",
      "Epoch 52/200\n",
      "\u001b[1m98/98\u001b[0m \u001b[32m━━━━━━━━━━━━━━━━━━━━\u001b[0m\u001b[37m\u001b[0m \u001b[1m0s\u001b[0m 3ms/step - accuracy: 0.8704 - loss: 0.4539\n",
      "Epoch 53/200\n",
      "\u001b[1m98/98\u001b[0m \u001b[32m━━━━━━━━━━━━━━━━━━━━\u001b[0m\u001b[37m\u001b[0m \u001b[1m0s\u001b[0m 3ms/step - accuracy: 0.8705 - loss: 0.4502\n",
      "Epoch 54/200\n",
      "\u001b[1m98/98\u001b[0m \u001b[32m━━━━━━━━━━━━━━━━━━━━\u001b[0m\u001b[37m\u001b[0m \u001b[1m0s\u001b[0m 3ms/step - accuracy: 0.8719 - loss: 0.4452\n",
      "Epoch 55/200\n",
      "\u001b[1m98/98\u001b[0m \u001b[32m━━━━━━━━━━━━━━━━━━━━\u001b[0m\u001b[37m\u001b[0m \u001b[1m0s\u001b[0m 3ms/step - accuracy: 0.8756 - loss: 0.4402\n",
      "Epoch 56/200\n",
      "\u001b[1m98/98\u001b[0m \u001b[32m━━━━━━━━━━━━━━━━━━━━\u001b[0m\u001b[37m\u001b[0m \u001b[1m0s\u001b[0m 3ms/step - accuracy: 0.8746 - loss: 0.4398\n",
      "Epoch 57/200\n",
      "\u001b[1m98/98\u001b[0m \u001b[32m━━━━━━━━━━━━━━━━━━━━\u001b[0m\u001b[37m\u001b[0m \u001b[1m0s\u001b[0m 2ms/step - accuracy: 0.8747 - loss: 0.4440\n",
      "Epoch 58/200\n",
      "\u001b[1m98/98\u001b[0m \u001b[32m━━━━━━━━━━━━━━━━━━━━\u001b[0m\u001b[37m\u001b[0m \u001b[1m0s\u001b[0m 3ms/step - accuracy: 0.8708 - loss: 0.4459\n",
      "Epoch 59/200\n",
      "\u001b[1m98/98\u001b[0m \u001b[32m━━━━━━━━━━━━━━━━━━━━\u001b[0m\u001b[37m\u001b[0m \u001b[1m0s\u001b[0m 3ms/step - accuracy: 0.8748 - loss: 0.4361\n",
      "Epoch 60/200\n",
      "\u001b[1m98/98\u001b[0m \u001b[32m━━━━━━━━━━━━━━━━━━━━\u001b[0m\u001b[37m\u001b[0m \u001b[1m0s\u001b[0m 3ms/step - accuracy: 0.8768 - loss: 0.4333\n",
      "Epoch 61/200\n",
      "\u001b[1m98/98\u001b[0m \u001b[32m━━━━━━━━━━━━━━━━━━━━\u001b[0m\u001b[37m\u001b[0m \u001b[1m0s\u001b[0m 3ms/step - accuracy: 0.8777 - loss: 0.4318\n",
      "Epoch 62/200\n",
      "\u001b[1m98/98\u001b[0m \u001b[32m━━━━━━━━━━━━━━━━━━━━\u001b[0m\u001b[37m\u001b[0m \u001b[1m0s\u001b[0m 2ms/step - accuracy: 0.8785 - loss: 0.4351\n",
      "Epoch 63/200\n",
      "\u001b[1m98/98\u001b[0m \u001b[32m━━━━━━━━━━━━━━━━━━━━\u001b[0m\u001b[37m\u001b[0m \u001b[1m0s\u001b[0m 3ms/step - accuracy: 0.8753 - loss: 0.4296\n",
      "Epoch 64/200\n",
      "\u001b[1m98/98\u001b[0m \u001b[32m━━━━━━━━━━━━━━━━━━━━\u001b[0m\u001b[37m\u001b[0m \u001b[1m0s\u001b[0m 3ms/step - accuracy: 0.8765 - loss: 0.4371\n",
      "Epoch 65/200\n",
      "\u001b[1m98/98\u001b[0m \u001b[32m━━━━━━━━━━━━━━━━━━━━\u001b[0m\u001b[37m\u001b[0m \u001b[1m0s\u001b[0m 3ms/step - accuracy: 0.8787 - loss: 0.4283\n",
      "Epoch 66/200\n",
      "\u001b[1m98/98\u001b[0m \u001b[32m━━━━━━━━━━━━━━━━━━━━\u001b[0m\u001b[37m\u001b[0m \u001b[1m0s\u001b[0m 3ms/step - accuracy: 0.8811 - loss: 0.4191\n",
      "Epoch 67/200\n",
      "\u001b[1m98/98\u001b[0m \u001b[32m━━━━━━━━━━━━━━━━━━━━\u001b[0m\u001b[37m\u001b[0m \u001b[1m0s\u001b[0m 2ms/step - accuracy: 0.8783 - loss: 0.4303\n",
      "Epoch 68/200\n",
      "\u001b[1m98/98\u001b[0m \u001b[32m━━━━━━━━━━━━━━━━━━━━\u001b[0m\u001b[37m\u001b[0m \u001b[1m0s\u001b[0m 3ms/step - accuracy: 0.8823 - loss: 0.4234\n",
      "Epoch 69/200\n",
      "\u001b[1m98/98\u001b[0m \u001b[32m━━━━━━━━━━━━━━━━━━━━\u001b[0m\u001b[37m\u001b[0m \u001b[1m0s\u001b[0m 3ms/step - accuracy: 0.8803 - loss: 0.4270\n",
      "Epoch 70/200\n",
      "\u001b[1m98/98\u001b[0m \u001b[32m━━━━━━━━━━━━━━━━━━━━\u001b[0m\u001b[37m\u001b[0m \u001b[1m0s\u001b[0m 2ms/step - accuracy: 0.8800 - loss: 0.4203\n",
      "Epoch 71/200\n",
      "\u001b[1m98/98\u001b[0m \u001b[32m━━━━━━━━━━━━━━━━━━━━\u001b[0m\u001b[37m\u001b[0m \u001b[1m0s\u001b[0m 2ms/step - accuracy: 0.8828 - loss: 0.4102\n",
      "Epoch 72/200\n",
      "\u001b[1m98/98\u001b[0m \u001b[32m━━━━━━━━━━━━━━━━━━━━\u001b[0m\u001b[37m\u001b[0m \u001b[1m0s\u001b[0m 3ms/step - accuracy: 0.8792 - loss: 0.4166\n",
      "Epoch 73/200\n",
      "\u001b[1m98/98\u001b[0m \u001b[32m━━━━━━━━━━━━━━━━━━━━\u001b[0m\u001b[37m\u001b[0m \u001b[1m0s\u001b[0m 3ms/step - accuracy: 0.8789 - loss: 0.4216\n",
      "Epoch 74/200\n",
      "\u001b[1m98/98\u001b[0m \u001b[32m━━━━━━━━━━━━━━━━━━━━\u001b[0m\u001b[37m\u001b[0m \u001b[1m0s\u001b[0m 3ms/step - accuracy: 0.8785 - loss: 0.4217\n",
      "Epoch 75/200\n",
      "\u001b[1m98/98\u001b[0m \u001b[32m━━━━━━━━━━━━━━━━━━━━\u001b[0m\u001b[37m\u001b[0m \u001b[1m0s\u001b[0m 3ms/step - accuracy: 0.8803 - loss: 0.4253\n",
      "Epoch 76/200\n",
      "\u001b[1m98/98\u001b[0m \u001b[32m━━━━━━━━━━━━━━━━━━━━\u001b[0m\u001b[37m\u001b[0m \u001b[1m0s\u001b[0m 3ms/step - accuracy: 0.8825 - loss: 0.4155\n",
      "Epoch 77/200\n",
      "\u001b[1m98/98\u001b[0m \u001b[32m━━━━━━━━━━━━━━━━━━━━\u001b[0m\u001b[37m\u001b[0m \u001b[1m0s\u001b[0m 3ms/step - accuracy: 0.8815 - loss: 0.4171\n",
      "Epoch 78/200\n",
      "\u001b[1m98/98\u001b[0m \u001b[32m━━━━━━━━━━━━━━━━━━━━\u001b[0m\u001b[37m\u001b[0m \u001b[1m0s\u001b[0m 3ms/step - accuracy: 0.8807 - loss: 0.4203\n",
      "Epoch 79/200\n",
      "\u001b[1m98/98\u001b[0m \u001b[32m━━━━━━━━━━━━━━━━━━━━\u001b[0m\u001b[37m\u001b[0m \u001b[1m0s\u001b[0m 3ms/step - accuracy: 0.8855 - loss: 0.4090\n",
      "Epoch 80/200\n",
      "\u001b[1m98/98\u001b[0m \u001b[32m━━━━━━━━━━━━━━━━━━━━\u001b[0m\u001b[37m\u001b[0m \u001b[1m0s\u001b[0m 3ms/step - accuracy: 0.8826 - loss: 0.4190\n",
      "Epoch 81/200\n",
      "\u001b[1m98/98\u001b[0m \u001b[32m━━━━━━━━━━━━━━━━━━━━\u001b[0m\u001b[37m\u001b[0m \u001b[1m0s\u001b[0m 3ms/step - accuracy: 0.8808 - loss: 0.4236\n",
      "Epoch 82/200\n",
      "\u001b[1m98/98\u001b[0m \u001b[32m━━━━━━━━━━━━━━━━━━━━\u001b[0m\u001b[37m\u001b[0m \u001b[1m0s\u001b[0m 3ms/step - accuracy: 0.8853 - loss: 0.4140\n",
      "Epoch 83/200\n",
      "\u001b[1m98/98\u001b[0m \u001b[32m━━━━━━━━━━━━━━━━━━━━\u001b[0m\u001b[37m\u001b[0m \u001b[1m0s\u001b[0m 3ms/step - accuracy: 0.8818 - loss: 0.4163\n",
      "Epoch 84/200\n",
      "\u001b[1m98/98\u001b[0m \u001b[32m━━━━━━━━━━━━━━━━━━━━\u001b[0m\u001b[37m\u001b[0m \u001b[1m0s\u001b[0m 3ms/step - accuracy: 0.8839 - loss: 0.4147\n",
      "Epoch 85/200\n",
      "\u001b[1m98/98\u001b[0m \u001b[32m━━━━━━━━━━━━━━━━━━━━\u001b[0m\u001b[37m\u001b[0m \u001b[1m0s\u001b[0m 3ms/step - accuracy: 0.8860 - loss: 0.4064\n",
      "Epoch 86/200\n",
      "\u001b[1m98/98\u001b[0m \u001b[32m━━━━━━━━━━━━━━━━━━━━\u001b[0m\u001b[37m\u001b[0m \u001b[1m0s\u001b[0m 2ms/step - accuracy: 0.8852 - loss: 0.4008\n",
      "Epoch 87/200\n",
      "\u001b[1m98/98\u001b[0m \u001b[32m━━━━━━━━━━━━━━━━━━━━\u001b[0m\u001b[37m\u001b[0m \u001b[1m0s\u001b[0m 3ms/step - accuracy: 0.8847 - loss: 0.4089\n",
      "Epoch 88/200\n",
      "\u001b[1m98/98\u001b[0m \u001b[32m━━━━━━━━━━━━━━━━━━━━\u001b[0m\u001b[37m\u001b[0m \u001b[1m0s\u001b[0m 3ms/step - accuracy: 0.8865 - loss: 0.4058\n",
      "Epoch 89/200\n",
      "\u001b[1m98/98\u001b[0m \u001b[32m━━━━━━━━━━━━━━━━━━━━\u001b[0m\u001b[37m\u001b[0m \u001b[1m0s\u001b[0m 3ms/step - accuracy: 0.8867 - loss: 0.4053\n",
      "Epoch 90/200\n",
      "\u001b[1m98/98\u001b[0m \u001b[32m━━━━━━━━━━━━━━━━━━━━\u001b[0m\u001b[37m\u001b[0m \u001b[1m0s\u001b[0m 3ms/step - accuracy: 0.8864 - loss: 0.4010\n",
      "Epoch 91/200\n",
      "\u001b[1m98/98\u001b[0m \u001b[32m━━━━━━━━━━━━━━━━━━━━\u001b[0m\u001b[37m\u001b[0m \u001b[1m0s\u001b[0m 3ms/step - accuracy: 0.8861 - loss: 0.4092\n",
      "Epoch 92/200\n",
      "\u001b[1m98/98\u001b[0m \u001b[32m━━━━━━━━━━━━━━━━━━━━\u001b[0m\u001b[37m\u001b[0m \u001b[1m0s\u001b[0m 3ms/step - accuracy: 0.8878 - loss: 0.4040\n",
      "Epoch 93/200\n",
      "\u001b[1m98/98\u001b[0m \u001b[32m━━━━━━━━━━━━━━━━━━━━\u001b[0m\u001b[37m\u001b[0m \u001b[1m0s\u001b[0m 3ms/step - accuracy: 0.8867 - loss: 0.4010\n",
      "Epoch 94/200\n",
      "\u001b[1m98/98\u001b[0m \u001b[32m━━━━━━━━━━━━━━━━━━━━\u001b[0m\u001b[37m\u001b[0m \u001b[1m0s\u001b[0m 3ms/step - accuracy: 0.8869 - loss: 0.4030\n",
      "Epoch 95/200\n",
      "\u001b[1m98/98\u001b[0m \u001b[32m━━━━━━━━━━━━━━━━━━━━\u001b[0m\u001b[37m\u001b[0m \u001b[1m0s\u001b[0m 3ms/step - accuracy: 0.8863 - loss: 0.4030\n",
      "Epoch 96/200\n",
      "\u001b[1m98/98\u001b[0m \u001b[32m━━━━━━━━━━━━━━━━━━━━\u001b[0m\u001b[37m\u001b[0m \u001b[1m0s\u001b[0m 3ms/step - accuracy: 0.8871 - loss: 0.3946\n",
      "Epoch 97/200\n",
      "\u001b[1m98/98\u001b[0m \u001b[32m━━━━━━━━━━━━━━━━━━━━\u001b[0m\u001b[37m\u001b[0m \u001b[1m0s\u001b[0m 4ms/step - accuracy: 0.8888 - loss: 0.3989\n",
      "Epoch 98/200\n",
      "\u001b[1m98/98\u001b[0m \u001b[32m━━━━━━━━━━━━━━━━━━━━\u001b[0m\u001b[37m\u001b[0m \u001b[1m0s\u001b[0m 3ms/step - accuracy: 0.8866 - loss: 0.3982\n",
      "Epoch 99/200\n",
      "\u001b[1m98/98\u001b[0m \u001b[32m━━━━━━━━━━━━━━━━━━━━\u001b[0m\u001b[37m\u001b[0m \u001b[1m0s\u001b[0m 4ms/step - accuracy: 0.8852 - loss: 0.4017\n",
      "Epoch 100/200\n",
      "\u001b[1m98/98\u001b[0m \u001b[32m━━━━━━━━━━━━━━━━━━━━\u001b[0m\u001b[37m\u001b[0m \u001b[1m0s\u001b[0m 3ms/step - accuracy: 0.8907 - loss: 0.3904\n",
      "Epoch 101/200\n",
      "\u001b[1m98/98\u001b[0m \u001b[32m━━━━━━━━━━━━━━━━━━━━\u001b[0m\u001b[37m\u001b[0m \u001b[1m0s\u001b[0m 3ms/step - accuracy: 0.8875 - loss: 0.3961\n",
      "Epoch 102/200\n",
      "\u001b[1m98/98\u001b[0m \u001b[32m━━━━━━━━━━━━━━━━━━━━\u001b[0m\u001b[37m\u001b[0m \u001b[1m0s\u001b[0m 3ms/step - accuracy: 0.8865 - loss: 0.4062\n",
      "Epoch 103/200\n",
      "\u001b[1m98/98\u001b[0m \u001b[32m━━━━━━━━━━━━━━━━━━━━\u001b[0m\u001b[37m\u001b[0m \u001b[1m0s\u001b[0m 3ms/step - accuracy: 0.8903 - loss: 0.3966\n",
      "Epoch 104/200\n",
      "\u001b[1m98/98\u001b[0m \u001b[32m━━━━━━━━━━━━━━━━━━━━\u001b[0m\u001b[37m\u001b[0m \u001b[1m0s\u001b[0m 3ms/step - accuracy: 0.8898 - loss: 0.3940\n",
      "Epoch 105/200\n",
      "\u001b[1m98/98\u001b[0m \u001b[32m━━━━━━━━━━━━━━━━━━━━\u001b[0m\u001b[37m\u001b[0m \u001b[1m0s\u001b[0m 3ms/step - accuracy: 0.8882 - loss: 0.4029\n",
      "Epoch 106/200\n",
      "\u001b[1m98/98\u001b[0m \u001b[32m━━━━━━━━━━━━━━━━━━━━\u001b[0m\u001b[37m\u001b[0m \u001b[1m0s\u001b[0m 3ms/step - accuracy: 0.8893 - loss: 0.3972\n",
      "Epoch 107/200\n",
      "\u001b[1m98/98\u001b[0m \u001b[32m━━━━━━━━━━━━━━━━━━━━\u001b[0m\u001b[37m\u001b[0m \u001b[1m0s\u001b[0m 3ms/step - accuracy: 0.8877 - loss: 0.3975\n",
      "Epoch 108/200\n",
      "\u001b[1m98/98\u001b[0m \u001b[32m━━━━━━━━━━━━━━━━━━━━\u001b[0m\u001b[37m\u001b[0m \u001b[1m0s\u001b[0m 3ms/step - accuracy: 0.8857 - loss: 0.3938\n",
      "Epoch 109/200\n",
      "\u001b[1m98/98\u001b[0m \u001b[32m━━━━━━━━━━━━━━━━━━━━\u001b[0m\u001b[37m\u001b[0m \u001b[1m0s\u001b[0m 3ms/step - accuracy: 0.8868 - loss: 0.3967\n",
      "Epoch 110/200\n",
      "\u001b[1m98/98\u001b[0m \u001b[32m━━━━━━━━━━━━━━━━━━━━\u001b[0m\u001b[37m\u001b[0m \u001b[1m0s\u001b[0m 3ms/step - accuracy: 0.8902 - loss: 0.3888\n",
      "Epoch 111/200\n",
      "\u001b[1m98/98\u001b[0m \u001b[32m━━━━━━━━━━━━━━━━━━━━\u001b[0m\u001b[37m\u001b[0m \u001b[1m0s\u001b[0m 3ms/step - accuracy: 0.8887 - loss: 0.4042\n",
      "Epoch 112/200\n",
      "\u001b[1m98/98\u001b[0m \u001b[32m━━━━━━━━━━━━━━━━━━━━\u001b[0m\u001b[37m\u001b[0m \u001b[1m0s\u001b[0m 3ms/step - accuracy: 0.8872 - loss: 0.3949\n",
      "Epoch 113/200\n",
      "\u001b[1m98/98\u001b[0m \u001b[32m━━━━━━━━━━━━━━━━━━━━\u001b[0m\u001b[37m\u001b[0m \u001b[1m0s\u001b[0m 2ms/step - accuracy: 0.8923 - loss: 0.3889\n",
      "Epoch 114/200\n",
      "\u001b[1m98/98\u001b[0m \u001b[32m━━━━━━━━━━━━━━━━━━━━\u001b[0m\u001b[37m\u001b[0m \u001b[1m0s\u001b[0m 3ms/step - accuracy: 0.8888 - loss: 0.3915\n",
      "Epoch 115/200\n",
      "\u001b[1m98/98\u001b[0m \u001b[32m━━━━━━━━━━━━━━━━━━━━\u001b[0m\u001b[37m\u001b[0m \u001b[1m0s\u001b[0m 3ms/step - accuracy: 0.8910 - loss: 0.3880\n",
      "Epoch 116/200\n",
      "\u001b[1m98/98\u001b[0m \u001b[32m━━━━━━━━━━━━━━━━━━━━\u001b[0m\u001b[37m\u001b[0m \u001b[1m0s\u001b[0m 3ms/step - accuracy: 0.8903 - loss: 0.3948\n",
      "Epoch 117/200\n",
      "\u001b[1m98/98\u001b[0m \u001b[32m━━━━━━━━━━━━━━━━━━━━\u001b[0m\u001b[37m\u001b[0m \u001b[1m0s\u001b[0m 3ms/step - accuracy: 0.8893 - loss: 0.3962\n",
      "Epoch 118/200\n",
      "\u001b[1m98/98\u001b[0m \u001b[32m━━━━━━━━━━━━━━━━━━━━\u001b[0m\u001b[37m\u001b[0m \u001b[1m0s\u001b[0m 3ms/step - accuracy: 0.8891 - loss: 0.3934\n",
      "Epoch 119/200\n",
      "\u001b[1m98/98\u001b[0m \u001b[32m━━━━━━━━━━━━━━━━━━━━\u001b[0m\u001b[37m\u001b[0m \u001b[1m0s\u001b[0m 3ms/step - accuracy: 0.8894 - loss: 0.3921\n",
      "Epoch 120/200\n",
      "\u001b[1m98/98\u001b[0m \u001b[32m━━━━━━━━━━━━━━━━━━━━\u001b[0m\u001b[37m\u001b[0m \u001b[1m0s\u001b[0m 3ms/step - accuracy: 0.8894 - loss: 0.3960\n",
      "Epoch 121/200\n",
      "\u001b[1m98/98\u001b[0m \u001b[32m━━━━━━━━━━━━━━━━━━━━\u001b[0m\u001b[37m\u001b[0m \u001b[1m0s\u001b[0m 4ms/step - accuracy: 0.8874 - loss: 0.3975\n",
      "Epoch 122/200\n",
      "\u001b[1m98/98\u001b[0m \u001b[32m━━━━━━━━━━━━━━━━━━━━\u001b[0m\u001b[37m\u001b[0m \u001b[1m0s\u001b[0m 3ms/step - accuracy: 0.8910 - loss: 0.3885\n",
      "Epoch 123/200\n",
      "\u001b[1m98/98\u001b[0m \u001b[32m━━━━━━━━━━━━━━━━━━━━\u001b[0m\u001b[37m\u001b[0m \u001b[1m0s\u001b[0m 3ms/step - accuracy: 0.8928 - loss: 0.3860\n",
      "Epoch 124/200\n",
      "\u001b[1m98/98\u001b[0m \u001b[32m━━━━━━━━━━━━━━━━━━━━\u001b[0m\u001b[37m\u001b[0m \u001b[1m0s\u001b[0m 3ms/step - accuracy: 0.8903 - loss: 0.3977\n",
      "Epoch 125/200\n",
      "\u001b[1m98/98\u001b[0m \u001b[32m━━━━━━━━━━━━━━━━━━━━\u001b[0m\u001b[37m\u001b[0m \u001b[1m0s\u001b[0m 3ms/step - accuracy: 0.8905 - loss: 0.3895\n",
      "Epoch 126/200\n",
      "\u001b[1m98/98\u001b[0m \u001b[32m━━━━━━━━━━━━━━━━━━━━\u001b[0m\u001b[37m\u001b[0m \u001b[1m0s\u001b[0m 3ms/step - accuracy: 0.8892 - loss: 0.3946\n",
      "Epoch 127/200\n",
      "\u001b[1m98/98\u001b[0m \u001b[32m━━━━━━━━━━━━━━━━━━━━\u001b[0m\u001b[37m\u001b[0m \u001b[1m0s\u001b[0m 3ms/step - accuracy: 0.8931 - loss: 0.3857\n",
      "Epoch 128/200\n",
      "\u001b[1m98/98\u001b[0m \u001b[32m━━━━━━━━━━━━━━━━━━━━\u001b[0m\u001b[37m\u001b[0m \u001b[1m0s\u001b[0m 2ms/step - accuracy: 0.8890 - loss: 0.3899\n",
      "Epoch 129/200\n",
      "\u001b[1m98/98\u001b[0m \u001b[32m━━━━━━━━━━━━━━━━━━━━\u001b[0m\u001b[37m\u001b[0m \u001b[1m0s\u001b[0m 3ms/step - accuracy: 0.8930 - loss: 0.3834\n",
      "Epoch 130/200\n",
      "\u001b[1m98/98\u001b[0m \u001b[32m━━━━━━━━━━━━━━━━━━━━\u001b[0m\u001b[37m\u001b[0m \u001b[1m0s\u001b[0m 3ms/step - accuracy: 0.8910 - loss: 0.3912\n",
      "Epoch 131/200\n",
      "\u001b[1m98/98\u001b[0m \u001b[32m━━━━━━━━━━━━━━━━━━━━\u001b[0m\u001b[37m\u001b[0m \u001b[1m0s\u001b[0m 3ms/step - accuracy: 0.8922 - loss: 0.3868\n",
      "Epoch 132/200\n",
      "\u001b[1m98/98\u001b[0m \u001b[32m━━━━━━━━━━━━━━━━━━━━\u001b[0m\u001b[37m\u001b[0m \u001b[1m0s\u001b[0m 3ms/step - accuracy: 0.8920 - loss: 0.3853\n",
      "Epoch 133/200\n",
      "\u001b[1m98/98\u001b[0m \u001b[32m━━━━━━━━━━━━━━━━━━━━\u001b[0m\u001b[37m\u001b[0m \u001b[1m0s\u001b[0m 3ms/step - accuracy: 0.8946 - loss: 0.3749\n",
      "Epoch 134/200\n",
      "\u001b[1m98/98\u001b[0m \u001b[32m━━━━━━━━━━━━━━━━━━━━\u001b[0m\u001b[37m\u001b[0m \u001b[1m0s\u001b[0m 3ms/step - accuracy: 0.8911 - loss: 0.3809\n",
      "Epoch 135/200\n",
      "\u001b[1m98/98\u001b[0m \u001b[32m━━━━━━━━━━━━━━━━━━━━\u001b[0m\u001b[37m\u001b[0m \u001b[1m0s\u001b[0m 3ms/step - accuracy: 0.8908 - loss: 0.3845\n",
      "Epoch 136/200\n",
      "\u001b[1m98/98\u001b[0m \u001b[32m━━━━━━━━━━━━━━━━━━━━\u001b[0m\u001b[37m\u001b[0m \u001b[1m0s\u001b[0m 2ms/step - accuracy: 0.8928 - loss: 0.3867\n",
      "Epoch 137/200\n",
      "\u001b[1m98/98\u001b[0m \u001b[32m━━━━━━━━━━━━━━━━━━━━\u001b[0m\u001b[37m\u001b[0m \u001b[1m0s\u001b[0m 3ms/step - accuracy: 0.8943 - loss: 0.3823\n",
      "Epoch 138/200\n",
      "\u001b[1m98/98\u001b[0m \u001b[32m━━━━━━━━━━━━━━━━━━━━\u001b[0m\u001b[37m\u001b[0m \u001b[1m0s\u001b[0m 3ms/step - accuracy: 0.8903 - loss: 0.3906\n",
      "Epoch 139/200\n",
      "\u001b[1m98/98\u001b[0m \u001b[32m━━━━━━━━━━━━━━━━━━━━\u001b[0m\u001b[37m\u001b[0m \u001b[1m0s\u001b[0m 3ms/step - accuracy: 0.8918 - loss: 0.3825\n",
      "Epoch 140/200\n",
      "\u001b[1m98/98\u001b[0m \u001b[32m━━━━━━━━━━━━━━━━━━━━\u001b[0m\u001b[37m\u001b[0m \u001b[1m0s\u001b[0m 3ms/step - accuracy: 0.8893 - loss: 0.3889\n",
      "Epoch 141/200\n",
      "\u001b[1m98/98\u001b[0m \u001b[32m━━━━━━━━━━━━━━━━━━━━\u001b[0m\u001b[37m\u001b[0m \u001b[1m0s\u001b[0m 3ms/step - accuracy: 0.8920 - loss: 0.3864\n",
      "Epoch 142/200\n",
      "\u001b[1m98/98\u001b[0m \u001b[32m━━━━━━━━━━━━━━━━━━━━\u001b[0m\u001b[37m\u001b[0m \u001b[1m0s\u001b[0m 3ms/step - accuracy: 0.8940 - loss: 0.3845\n",
      "Epoch 143/200\n",
      "\u001b[1m98/98\u001b[0m \u001b[32m━━━━━━━━━━━━━━━━━━━━\u001b[0m\u001b[37m\u001b[0m \u001b[1m0s\u001b[0m 3ms/step - accuracy: 0.8928 - loss: 0.3734\n",
      "Epoch 144/200\n",
      "\u001b[1m98/98\u001b[0m \u001b[32m━━━━━━━━━━━━━━━━━━━━\u001b[0m\u001b[37m\u001b[0m \u001b[1m0s\u001b[0m 3ms/step - accuracy: 0.8914 - loss: 0.3851\n",
      "Epoch 145/200\n",
      "\u001b[1m98/98\u001b[0m \u001b[32m━━━━━━━━━━━━━━━━━━━━\u001b[0m\u001b[37m\u001b[0m \u001b[1m0s\u001b[0m 3ms/step - accuracy: 0.8930 - loss: 0.3848\n",
      "Epoch 146/200\n",
      "\u001b[1m98/98\u001b[0m \u001b[32m━━━━━━━━━━━━━━━━━━━━\u001b[0m\u001b[37m\u001b[0m \u001b[1m0s\u001b[0m 3ms/step - accuracy: 0.8923 - loss: 0.3816\n",
      "Epoch 147/200\n",
      "\u001b[1m98/98\u001b[0m \u001b[32m━━━━━━━━━━━━━━━━━━━━\u001b[0m\u001b[37m\u001b[0m \u001b[1m0s\u001b[0m 3ms/step - accuracy: 0.8913 - loss: 0.3885\n",
      "Epoch 148/200\n",
      "\u001b[1m98/98\u001b[0m \u001b[32m━━━━━━━━━━━━━━━━━━━━\u001b[0m\u001b[37m\u001b[0m \u001b[1m0s\u001b[0m 3ms/step - accuracy: 0.8929 - loss: 0.3782\n",
      "Epoch 149/200\n",
      "\u001b[1m98/98\u001b[0m \u001b[32m━━━━━━━━━━━━━━━━━━━━\u001b[0m\u001b[37m\u001b[0m \u001b[1m0s\u001b[0m 3ms/step - accuracy: 0.8912 - loss: 0.3747\n",
      "Epoch 150/200\n",
      "\u001b[1m98/98\u001b[0m \u001b[32m━━━━━━━━━━━━━━━━━━━━\u001b[0m\u001b[37m\u001b[0m \u001b[1m0s\u001b[0m 3ms/step - accuracy: 0.8937 - loss: 0.3807\n",
      "Epoch 151/200\n",
      "\u001b[1m98/98\u001b[0m \u001b[32m━━━━━━━━━━━━━━━━━━━━\u001b[0m\u001b[37m\u001b[0m \u001b[1m0s\u001b[0m 3ms/step - accuracy: 0.8944 - loss: 0.3711\n",
      "Epoch 152/200\n",
      "\u001b[1m98/98\u001b[0m \u001b[32m━━━━━━━━━━━━━━━━━━━━\u001b[0m\u001b[37m\u001b[0m \u001b[1m0s\u001b[0m 3ms/step - accuracy: 0.8892 - loss: 0.3886\n",
      "Epoch 153/200\n",
      "\u001b[1m98/98\u001b[0m \u001b[32m━━━━━━━━━━━━━━━━━━━━\u001b[0m\u001b[37m\u001b[0m \u001b[1m0s\u001b[0m 3ms/step - accuracy: 0.8907 - loss: 0.3893\n",
      "Epoch 154/200\n",
      "\u001b[1m98/98\u001b[0m \u001b[32m━━━━━━━━━━━━━━━━━━━━\u001b[0m\u001b[37m\u001b[0m \u001b[1m0s\u001b[0m 3ms/step - accuracy: 0.8918 - loss: 0.3839\n",
      "Epoch 155/200\n",
      "\u001b[1m98/98\u001b[0m \u001b[32m━━━━━━━━━━━━━━━━━━━━\u001b[0m\u001b[37m\u001b[0m \u001b[1m0s\u001b[0m 3ms/step - accuracy: 0.8920 - loss: 0.3852\n",
      "Epoch 156/200\n",
      "\u001b[1m98/98\u001b[0m \u001b[32m━━━━━━━━━━━━━━━━━━━━\u001b[0m\u001b[37m\u001b[0m \u001b[1m0s\u001b[0m 2ms/step - accuracy: 0.8924 - loss: 0.3795\n",
      "Epoch 157/200\n",
      "\u001b[1m98/98\u001b[0m \u001b[32m━━━━━━━━━━━━━━━━━━━━\u001b[0m\u001b[37m\u001b[0m \u001b[1m0s\u001b[0m 3ms/step - accuracy: 0.8955 - loss: 0.3713\n",
      "Epoch 158/200\n",
      "\u001b[1m98/98\u001b[0m \u001b[32m━━━━━━━━━━━━━━━━━━━━\u001b[0m\u001b[37m\u001b[0m \u001b[1m0s\u001b[0m 2ms/step - accuracy: 0.8918 - loss: 0.3785\n",
      "Epoch 159/200\n",
      "\u001b[1m98/98\u001b[0m \u001b[32m━━━━━━━━━━━━━━━━━━━━\u001b[0m\u001b[37m\u001b[0m \u001b[1m0s\u001b[0m 3ms/step - accuracy: 0.8916 - loss: 0.3783\n",
      "Epoch 160/200\n",
      "\u001b[1m98/98\u001b[0m \u001b[32m━━━━━━━━━━━━━━━━━━━━\u001b[0m\u001b[37m\u001b[0m \u001b[1m0s\u001b[0m 3ms/step - accuracy: 0.8939 - loss: 0.3762\n",
      "Epoch 161/200\n",
      "\u001b[1m98/98\u001b[0m \u001b[32m━━━━━━━━━━━━━━━━━━━━\u001b[0m\u001b[37m\u001b[0m \u001b[1m0s\u001b[0m 3ms/step - accuracy: 0.8937 - loss: 0.3781\n",
      "Epoch 162/200\n",
      "\u001b[1m98/98\u001b[0m \u001b[32m━━━━━━━━━━━━━━━━━━━━\u001b[0m\u001b[37m\u001b[0m \u001b[1m0s\u001b[0m 3ms/step - accuracy: 0.8941 - loss: 0.3748\n",
      "Epoch 163/200\n",
      "\u001b[1m98/98\u001b[0m \u001b[32m━━━━━━━━━━━━━━━━━━━━\u001b[0m\u001b[37m\u001b[0m \u001b[1m0s\u001b[0m 3ms/step - accuracy: 0.8914 - loss: 0.3848\n",
      "Epoch 164/200\n",
      "\u001b[1m98/98\u001b[0m \u001b[32m━━━━━━━━━━━━━━━━━━━━\u001b[0m\u001b[37m\u001b[0m \u001b[1m0s\u001b[0m 3ms/step - accuracy: 0.8953 - loss: 0.3776\n",
      "Epoch 165/200\n",
      "\u001b[1m98/98\u001b[0m \u001b[32m━━━━━━━━━━━━━━━━━━━━\u001b[0m\u001b[37m\u001b[0m \u001b[1m0s\u001b[0m 3ms/step - accuracy: 0.8962 - loss: 0.3657\n",
      "Epoch 166/200\n",
      "\u001b[1m98/98\u001b[0m \u001b[32m━━━━━━━━━━━━━━━━━━━━\u001b[0m\u001b[37m\u001b[0m \u001b[1m0s\u001b[0m 3ms/step - accuracy: 0.8949 - loss: 0.3800\n",
      "Epoch 167/200\n",
      "\u001b[1m98/98\u001b[0m \u001b[32m━━━━━━━━━━━━━━━━━━━━\u001b[0m\u001b[37m\u001b[0m \u001b[1m0s\u001b[0m 2ms/step - accuracy: 0.8943 - loss: 0.3759\n",
      "Epoch 168/200\n",
      "\u001b[1m98/98\u001b[0m \u001b[32m━━━━━━━━━━━━━━━━━━━━\u001b[0m\u001b[37m\u001b[0m \u001b[1m0s\u001b[0m 2ms/step - accuracy: 0.8956 - loss: 0.3735\n",
      "Epoch 169/200\n",
      "\u001b[1m98/98\u001b[0m \u001b[32m━━━━━━━━━━━━━━━━━━━━\u001b[0m\u001b[37m\u001b[0m \u001b[1m0s\u001b[0m 2ms/step - accuracy: 0.8924 - loss: 0.3846\n",
      "Epoch 170/200\n",
      "\u001b[1m98/98\u001b[0m \u001b[32m━━━━━━━━━━━━━━━━━━━━\u001b[0m\u001b[37m\u001b[0m \u001b[1m0s\u001b[0m 2ms/step - accuracy: 0.8928 - loss: 0.3733\n",
      "Epoch 171/200\n",
      "\u001b[1m98/98\u001b[0m \u001b[32m━━━━━━━━━━━━━━━━━━━━\u001b[0m\u001b[37m\u001b[0m \u001b[1m0s\u001b[0m 2ms/step - accuracy: 0.8956 - loss: 0.3707\n",
      "Epoch 172/200\n",
      "\u001b[1m98/98\u001b[0m \u001b[32m━━━━━━━━━━━━━━━━━━━━\u001b[0m\u001b[37m\u001b[0m \u001b[1m0s\u001b[0m 2ms/step - accuracy: 0.8920 - loss: 0.3808\n",
      "Epoch 173/200\n",
      "\u001b[1m98/98\u001b[0m \u001b[32m━━━━━━━━━━━━━━━━━━━━\u001b[0m\u001b[37m\u001b[0m \u001b[1m0s\u001b[0m 3ms/step - accuracy: 0.8963 - loss: 0.3673\n",
      "Epoch 174/200\n",
      "\u001b[1m98/98\u001b[0m \u001b[32m━━━━━━━━━━━━━━━━━━━━\u001b[0m\u001b[37m\u001b[0m \u001b[1m0s\u001b[0m 3ms/step - accuracy: 0.8951 - loss: 0.3699\n",
      "Epoch 175/200\n",
      "\u001b[1m98/98\u001b[0m \u001b[32m━━━━━━━━━━━━━━━━━━━━\u001b[0m\u001b[37m\u001b[0m \u001b[1m0s\u001b[0m 3ms/step - accuracy: 0.8955 - loss: 0.3757\n",
      "Epoch 176/200\n",
      "\u001b[1m98/98\u001b[0m \u001b[32m━━━━━━━━━━━━━━━━━━━━\u001b[0m\u001b[37m\u001b[0m \u001b[1m0s\u001b[0m 3ms/step - accuracy: 0.8942 - loss: 0.3784\n",
      "Epoch 177/200\n",
      "\u001b[1m98/98\u001b[0m \u001b[32m━━━━━━━━━━━━━━━━━━━━\u001b[0m\u001b[37m\u001b[0m \u001b[1m0s\u001b[0m 2ms/step - accuracy: 0.8933 - loss: 0.3739\n",
      "Epoch 178/200\n",
      "\u001b[1m98/98\u001b[0m \u001b[32m━━━━━━━━━━━━━━━━━━━━\u001b[0m\u001b[37m\u001b[0m \u001b[1m0s\u001b[0m 2ms/step - accuracy: 0.8952 - loss: 0.3714\n",
      "Epoch 179/200\n",
      "\u001b[1m98/98\u001b[0m \u001b[32m━━━━━━━━━━━━━━━━━━━━\u001b[0m\u001b[37m\u001b[0m \u001b[1m0s\u001b[0m 3ms/step - accuracy: 0.8904 - loss: 0.3807\n",
      "Epoch 180/200\n",
      "\u001b[1m98/98\u001b[0m \u001b[32m━━━━━━━━━━━━━━━━━━━━\u001b[0m\u001b[37m\u001b[0m \u001b[1m0s\u001b[0m 2ms/step - accuracy: 0.8944 - loss: 0.3774\n",
      "Epoch 181/200\n",
      "\u001b[1m98/98\u001b[0m \u001b[32m━━━━━━━━━━━━━━━━━━━━\u001b[0m\u001b[37m\u001b[0m \u001b[1m0s\u001b[0m 2ms/step - accuracy: 0.8956 - loss: 0.3726\n",
      "Epoch 182/200\n",
      "\u001b[1m98/98\u001b[0m \u001b[32m━━━━━━━━━━━━━━━━━━━━\u001b[0m\u001b[37m\u001b[0m \u001b[1m0s\u001b[0m 3ms/step - accuracy: 0.8963 - loss: 0.3663\n",
      "Epoch 183/200\n",
      "\u001b[1m98/98\u001b[0m \u001b[32m━━━━━━━━━━━━━━━━━━━━\u001b[0m\u001b[37m\u001b[0m \u001b[1m0s\u001b[0m 3ms/step - accuracy: 0.8916 - loss: 0.3756\n",
      "Epoch 184/200\n",
      "\u001b[1m98/98\u001b[0m \u001b[32m━━━━━━━━━━━━━━━━━━━━\u001b[0m\u001b[37m\u001b[0m \u001b[1m0s\u001b[0m 3ms/step - accuracy: 0.8963 - loss: 0.3634\n",
      "Epoch 185/200\n",
      "\u001b[1m98/98\u001b[0m \u001b[32m━━━━━━━━━━━━━━━━━━━━\u001b[0m\u001b[37m\u001b[0m \u001b[1m0s\u001b[0m 3ms/step - accuracy: 0.8974 - loss: 0.3670\n",
      "Epoch 186/200\n",
      "\u001b[1m98/98\u001b[0m \u001b[32m━━━━━━━━━━━━━━━━━━━━\u001b[0m\u001b[37m\u001b[0m \u001b[1m0s\u001b[0m 3ms/step - accuracy: 0.8935 - loss: 0.3756\n",
      "Epoch 187/200\n",
      "\u001b[1m98/98\u001b[0m \u001b[32m━━━━━━━━━━━━━━━━━━━━\u001b[0m\u001b[37m\u001b[0m \u001b[1m0s\u001b[0m 2ms/step - accuracy: 0.8957 - loss: 0.3687\n",
      "Epoch 188/200\n",
      "\u001b[1m98/98\u001b[0m \u001b[32m━━━━━━━━━━━━━━━━━━━━\u001b[0m\u001b[37m\u001b[0m \u001b[1m0s\u001b[0m 2ms/step - accuracy: 0.8946 - loss: 0.3735\n",
      "Epoch 189/200\n",
      "\u001b[1m98/98\u001b[0m \u001b[32m━━━━━━━━━━━━━━━━━━━━\u001b[0m\u001b[37m\u001b[0m \u001b[1m0s\u001b[0m 2ms/step - accuracy: 0.8937 - loss: 0.3773\n",
      "Epoch 190/200\n",
      "\u001b[1m98/98\u001b[0m \u001b[32m━━━━━━━━━━━━━━━━━━━━\u001b[0m\u001b[37m\u001b[0m \u001b[1m0s\u001b[0m 2ms/step - accuracy: 0.8958 - loss: 0.3692\n",
      "Epoch 191/200\n",
      "\u001b[1m98/98\u001b[0m \u001b[32m━━━━━━━━━━━━━━━━━━━━\u001b[0m\u001b[37m\u001b[0m \u001b[1m0s\u001b[0m 3ms/step - accuracy: 0.8964 - loss: 0.3708\n",
      "Epoch 192/200\n",
      "\u001b[1m98/98\u001b[0m \u001b[32m━━━━━━━━━━━━━━━━━━━━\u001b[0m\u001b[37m\u001b[0m \u001b[1m0s\u001b[0m 3ms/step - accuracy: 0.8969 - loss: 0.3697\n",
      "Epoch 193/200\n",
      "\u001b[1m98/98\u001b[0m \u001b[32m━━━━━━━━━━━━━━━━━━━━\u001b[0m\u001b[37m\u001b[0m \u001b[1m0s\u001b[0m 3ms/step - accuracy: 0.8937 - loss: 0.3781\n",
      "Epoch 194/200\n",
      "\u001b[1m98/98\u001b[0m \u001b[32m━━━━━━━━━━━━━━━━━━━━\u001b[0m\u001b[37m\u001b[0m \u001b[1m0s\u001b[0m 3ms/step - accuracy: 0.8942 - loss: 0.3716\n",
      "Epoch 195/200\n",
      "\u001b[1m98/98\u001b[0m \u001b[32m━━━━━━━━━━━━━━━━━━━━\u001b[0m\u001b[37m\u001b[0m \u001b[1m0s\u001b[0m 3ms/step - accuracy: 0.8940 - loss: 0.3764\n",
      "Epoch 196/200\n",
      "\u001b[1m98/98\u001b[0m \u001b[32m━━━━━━━━━━━━━━━━━━━━\u001b[0m\u001b[37m\u001b[0m \u001b[1m0s\u001b[0m 2ms/step - accuracy: 0.8964 - loss: 0.3676\n",
      "Epoch 197/200\n",
      "\u001b[1m98/98\u001b[0m \u001b[32m━━━━━━━━━━━━━━━━━━━━\u001b[0m\u001b[37m\u001b[0m \u001b[1m0s\u001b[0m 3ms/step - accuracy: 0.8975 - loss: 0.3680\n",
      "Epoch 198/200\n",
      "\u001b[1m98/98\u001b[0m \u001b[32m━━━━━━━━━━━━━━━━━━━━\u001b[0m\u001b[37m\u001b[0m \u001b[1m0s\u001b[0m 2ms/step - accuracy: 0.8949 - loss: 0.3704\n",
      "Epoch 199/200\n",
      "\u001b[1m98/98\u001b[0m \u001b[32m━━━━━━━━━━━━━━━━━━━━\u001b[0m\u001b[37m\u001b[0m \u001b[1m0s\u001b[0m 3ms/step - accuracy: 0.8944 - loss: 0.3737\n",
      "Epoch 200/200\n",
      "\u001b[1m98/98\u001b[0m \u001b[32m━━━━━━━━━━━━━━━━━━━━\u001b[0m\u001b[37m\u001b[0m \u001b[1m0s\u001b[0m 3ms/step - accuracy: 0.8979 - loss: 0.3670\n"
     ]
    }
   ],
   "source": [
    "with tensorflow.device('/GPU:0'):\n",
    "    model_history = model.fit(new_train_images_float, new_train_labels, epochs=200, batch_size=512)"
   ]
  },
  {
   "cell_type": "code",
   "execution_count": null,
   "id": "61a14d41-85fe-4bea-93b7-750a4ed74162",
   "metadata": {},
   "outputs": [],
   "source": [
    "model_history.history['accuracy']"
   ]
  },
  {
   "cell_type": "code",
   "execution_count": null,
   "id": "f13f8317-6396-4f08-9e19-5dea7aee8d52",
   "metadata": {},
   "outputs": [],
   "source": [
    "model_history.history['loss']"
   ]
  },
  {
   "cell_type": "code",
   "execution_count": 47,
   "id": "8a7f9558-0b60-47c4-97c8-77a3dd79957b",
   "metadata": {},
   "outputs": [],
   "source": [
    "accuracy = model_history.history['accuracy'][0:]"
   ]
  },
  {
   "cell_type": "code",
   "execution_count": 48,
   "id": "7c6f8be5-17d2-4aa0-953a-d3a39e258379",
   "metadata": {},
   "outputs": [],
   "source": [
    "loss = model_history.history['loss'][0:]"
   ]
  },
  {
   "cell_type": "code",
   "execution_count": 49,
   "id": "ac74c3fe-7679-47f9-aba9-28a40ad30a8d",
   "metadata": {},
   "outputs": [
    {
     "data": {
      "text/plain": [
       "<matplotlib.legend.Legend at 0x7fed4c177860>"
      ]
     },
     "execution_count": 49,
     "metadata": {},
     "output_type": "execute_result"
    },
    {
     "data": {
      "image/png": "[encoded data removed]",
      "text/plain": [
       "<Figure size 640x480 with 2 Axes>"
      ]
     },
     "metadata": {},
     "output_type": "display_data"
    }
   ],
   "source": [
    "fig, ax = plt.subplots(1, 1)\n",
    "ax.plot(accuracy, label='accuracy')\n",
    "ax2 = ax.twinx()\n",
    "ax2.plot(loss, color='tab:orange', label='loss')\n",
    "fig.legend()"
   ]
  },
  {
   "cell_type": "code",
   "execution_count": 50,
   "id": "b10c9859-603d-413e-b390-ec1d792bb9be",
   "metadata": {},
   "outputs": [
    {
     "data": {
      "text/plain": [
       "784"
      ]
     },
     "execution_count": 50,
     "metadata": {},
     "output_type": "execute_result"
    }
   ],
   "source": [
    "28*28"
   ]
  },
  {
   "cell_type": "code",
   "execution_count": 51,
   "id": "0df574b3-404e-4ea0-bfd2-46aee123931b",
   "metadata": {},
   "outputs": [
    {
     "name": "stdout",
     "output_type": "stream",
     "text": [
      "\u001b[1m1563/1563\u001b[0m \u001b[32m━━━━━━━━━━━━━━━━━━━━\u001b[0m\u001b[37m\u001b[0m \u001b[1m2s\u001b[0m 1ms/step\n"
     ]
    }
   ],
   "source": [
    "# check the training dataset, not the test dataset\n",
    "test_digits = new_train_images_float #[0:3] # test all!\n",
    "predictions = model.predict(test_digits)"
   ]
  },
  {
   "cell_type": "code",
   "execution_count": 52,
   "id": "52c730e8-0497-4f68-aef8-b0d381e7f51e",
   "metadata": {},
   "outputs": [
    {
     "data": {
      "text/plain": [
       "(50000, 10)"
      ]
     },
     "execution_count": 52,
     "metadata": {},
     "output_type": "execute_result"
    }
   ],
   "source": [
    "predictions.shape"
   ]
  },
  {
   "cell_type": "code",
   "execution_count": 53,
   "id": "7bb7a801-9620-4c54-9359-b67600003e78",
   "metadata": {},
   "outputs": [
    {
     "name": "stdout",
     "output_type": "stream",
     "text": [
      "2.531413e-07, 0.2191548, 0.06179936, 0.012976415, 4.6181826e-06, 0.002786501, 0.0020940832, 1.9087465e-06, 0.7010653, 0.00011676918, \n",
      "0.03378577, 1.278885e-05, 1.4477175e-05, 0.10765621, 0.0077005075, 0.38873136, 1.4410923e-06, 0.37072563, 0.0007495255, 0.090622306, \n",
      "0.9879661, 3.0866357e-08, 0.0003479702, 8.472503e-05, 1.2530493e-06, 0.011128561, 0.00019157372, 1.4202485e-06, 0.00027130655, 6.93925e-06, \n"
     ]
    }
   ],
   "source": [
    "for prediction in predictions[0:3]:\n",
    "    for v in prediction:\n",
    "        print(v, end=', ')\n",
    "    print('')"
   ]
  },
  {
   "cell_type": "code",
   "execution_count": 54,
   "id": "2de478b9-ba2f-4fa2-b40e-3daa9524bae1",
   "metadata": {},
   "outputs": [],
   "source": [
    "# this array contains the predicted digit value\n",
    "predictions_argmax = predictions.argmax(axis=1)"
   ]
  },
  {
   "cell_type": "code",
   "execution_count": 55,
   "id": "15ecaa45-b4e1-4e12-bff5-a7a73af6e113",
   "metadata": {},
   "outputs": [
    {
     "data": {
      "text/plain": [
       "(50000,)"
      ]
     },
     "execution_count": 55,
     "metadata": {},
     "output_type": "execute_result"
    }
   ],
   "source": [
    "predictions_argmax.shape"
   ]
  },
  {
   "cell_type": "code",
   "execution_count": 56,
   "id": "257bc709-d6e7-442e-adfd-418eda6f354d",
   "metadata": {},
   "outputs": [
    {
     "data": {
      "text/plain": [
       "array([8, 5, 0])"
      ]
     },
     "execution_count": 56,
     "metadata": {},
     "output_type": "execute_result"
    }
   ],
   "source": [
    "# for example: [2, 4, 2, 9, 9, 3, ...] means the digits should be\n",
    "# 2, 4, 2, 9, 9, 3, ...\n",
    "predictions_argmax[0:3]"
   ]
  },
  {
   "cell_type": "code",
   "execution_count": 57,
   "id": "2c632a3f-e17e-4e6e-a296-cc171e145018",
   "metadata": {},
   "outputs": [
    {
     "name": "stdout",
     "output_type": "stream",
     "text": [
      "0.7010653\n",
      "0.38873136\n",
      "0.9879661\n"
     ]
    }
   ],
   "source": [
    "for i, arg in enumerate(predictions_argmax[0:3]):\n",
    "    print(predictions[i, arg])"
   ]
  },
  {
   "cell_type": "code",
   "execution_count": 58,
   "id": "62d3050c-46bd-4bce-877c-38306010dc7b",
   "metadata": {},
   "outputs": [],
   "source": [
    "predictions_max_probability = predictions[numpy.arange(len(predictions)), predictions.argmax(axis=1)]"
   ]
  },
  {
   "cell_type": "code",
   "execution_count": 59,
   "id": "e37aa99c-55c2-4446-9fa8-0336626e8887",
   "metadata": {},
   "outputs": [
    {
     "data": {
      "text/plain": [
       "array([0.7010653 , 0.38873136, 0.9879661 , ..., 0.9921176 , 0.89423174,\n",
       "       0.99525046], dtype=float32)"
      ]
     },
     "execution_count": 59,
     "metadata": {},
     "output_type": "execute_result"
    }
   ],
   "source": [
    "predictions_max_probability"
   ]
  },
  {
   "cell_type": "code",
   "execution_count": 60,
   "id": "20c45af9-affb-480c-a4f9-2345b9438cb5",
   "metadata": {},
   "outputs": [],
   "source": [
    "predictions_max_probability_sort_order_index = numpy.argsort(predictions_max_probability)"
   ]
  },
  {
   "cell_type": "code",
   "execution_count": 61,
   "id": "449483b3-51d5-4530-98dd-3a32646eed78",
   "metadata": {},
   "outputs": [
    {
     "data": {
      "text/plain": [
       "array([49965, 46965,  1840, ..., 20312,  6582, 49786])"
      ]
     },
     "execution_count": 61,
     "metadata": {},
     "output_type": "execute_result"
    }
   ],
   "source": [
    "predictions_max_probability_sort_order_index"
   ]
  },
  {
   "cell_type": "code",
   "execution_count": 62,
   "id": "3ce6e2e3-c617-4bfb-a637-c0958fdc54dd",
   "metadata": {},
   "outputs": [],
   "source": [
    "predictions_max_probability_sorted = predictions_max_probability[predictions_max_probability_sort_order_index]"
   ]
  },
  {
   "cell_type": "code",
   "execution_count": 63,
   "id": "f1a72442-ec83-482e-a216-2ab9d2bc5c25",
   "metadata": {},
   "outputs": [
    {
     "data": {
      "text/plain": [
       "array([0.20805344, 0.21680976, 0.2244246 , ..., 0.9999776 , 0.9999794 ,\n",
       "       0.9999845 ], dtype=float32)"
      ]
     },
     "execution_count": 63,
     "metadata": {},
     "output_type": "execute_result"
    }
   ],
   "source": [
    "predictions_max_probability_sorted"
   ]
  },
  {
   "cell_type": "code",
   "execution_count": 64,
   "id": "cba2c691-a4a4-4632-8060-47b90eb57fa5",
   "metadata": {},
   "outputs": [],
   "source": [
    "predictions_argmax_sorted = predictions_argmax[predictions_max_probability_sort_order_index]"
   ]
  },
  {
   "cell_type": "code",
   "execution_count": 65,
   "id": "7e727583-5de8-4db7-a95f-dfe8d87e05ce",
   "metadata": {},
   "outputs": [
    {
     "data": {
      "text/plain": [
       "array([4, 4, 5, ..., 2, 2, 2])"
      ]
     },
     "execution_count": 65,
     "metadata": {},
     "output_type": "execute_result"
    }
   ],
   "source": [
    "predictions_argmax_sorted"
   ]
  },
  {
   "cell_type": "code",
   "execution_count": 66,
   "id": "96930e02-c843-4b51-aae5-d0682c50be20",
   "metadata": {},
   "outputs": [],
   "source": [
    "#images_sorted = (new_train_images[0:3])[predictions_max_probability_sort_order_index]\n",
    "images_sorted = new_train_images[predictions_max_probability_sort_order_index]"
   ]
  },
  {
   "cell_type": "code",
   "execution_count": 67,
   "id": "a2ff0d6c-1f70-45db-9cf5-8e8dfeb64bda",
   "metadata": {},
   "outputs": [
    {
     "data": {
      "text/plain": [
       "(50000, 28, 28)"
      ]
     },
     "execution_count": 67,
     "metadata": {},
     "output_type": "execute_result"
    }
   ],
   "source": [
    "images_sorted.shape"
   ]
  },
  {
   "cell_type": "code",
   "execution_count": 68,
   "id": "bd4bcf1b-f48b-47c6-ac92-fddba9f3a92c",
   "metadata": {},
   "outputs": [
    {
     "data": {
      "text/plain": [
       "array([49965, 46965,  1840, ..., 20312,  6582, 49786])"
      ]
     },
     "execution_count": 68,
     "metadata": {},
     "output_type": "execute_result"
    }
   ],
   "source": [
    "images_sorted_index = numpy.arange(images_sorted.shape[0])[predictions_max_probability_sort_order_index]\n",
    "images_sorted_index"
   ]
  },
  {
   "cell_type": "code",
   "execution_count": 74,
   "id": "1e498422-4436-492e-bccc-595f12645d8c",
   "metadata": {},
   "outputs": [],
   "source": [
    "labels_sorted = new_train_labels[predictions_max_probability_sort_order_index]"
   ]
  },
  {
   "cell_type": "code",
   "execution_count": 85,
   "id": "5be2cdab-5aeb-4a6f-a7f6-105c3335ab0e",
   "metadata": {},
   "outputs": [],
   "source": [
    "def print_output(filename, predictions_argmax_sorted, predictions_max_probability_sorted, images_sorted, images_sorted_index, labels_sorted):\n",
    "    size_y = 100\n",
    "    size_x = 30\n",
    "\n",
    "    tmp = numpy.full((size_y*28, size_x*28), 255, dtype=numpy.uint8)\n",
    "\n",
    "    for i in range(len(predictions_argmax_sorted)):\n",
    "        prediction = predictions_argmax_sorted[i]\n",
    "        image = images_sorted[i]\n",
    "        image_index = images_sorted_index[i]\n",
    "    \n",
    "        oix_x = 28 * 0\n",
    "        oix_y = 28 * i\n",
    "\n",
    "        image_index_string = f'{image_index}'\n",
    "        image_index_string_length = len(image_index_string)\n",
    "        oix_x = 28 * (5 - image_index_string_length)\n",
    "        for ch in image_index_string:\n",
    "            ch_int = int(ch) - int('0')\n",
    "            tmp[oix_y:oix_y+28, oix_x:oix_x+28] = new_train_images[digit_index[ch_int]]\n",
    "            oix_x += 28\n",
    "\n",
    "        oix_x = 28 * 5 # assumes max 5 chars for index\n",
    "        oix_x += 28 # leave a space\n",
    "\n",
    "        # print the actual label\n",
    "        label = labels_sorted[i]\n",
    "        tmp[oix_y:oix_y+28, oix_x:oix_x+28] = new_train_images[digit_index[label]]\n",
    "    \n",
    "        oix_x += 28 * 2\n",
    "                \n",
    "        # print the label (predicted label)\n",
    "        i_label = predictions_argmax_sorted[i]\n",
    "        tmp[oix_y:oix_y+28, oix_x:oix_x+28] = new_train_images[digit_index[i_label]]\n",
    "    \n",
    "        oix_x += 28 * 2\n",
    "        \n",
    "        # print the actual image observed\n",
    "        tmp[oix_y:oix_y+28, oix_x:oix_x+28] = images_sorted[i]\n",
    "    \n",
    "        oix_x += 28 * 2\n",
    "\n",
    "        # print the probability value\n",
    "        max_probability = predictions_max_probability_sorted[i]\n",
    "        max_probability_string = f'{max_probability:0.5f}'\n",
    "        for ch in max_probability_string:\n",
    "            if ch == '.':\n",
    "                # try to print a dot\n",
    "                tmp[oix_y+20:oix_y+20+4, oix_x+10:oix_x+10+4] = 0\n",
    "            else:\n",
    "                ch_int = int(ch) - int('0')\n",
    "                tmp[oix_y:oix_y+28, oix_x:oix_x+28] = new_train_images[digit_index[ch_int]]\n",
    "                \n",
    "            oix_x += 28\n",
    "        \n",
    "        oix_x += 28 * 1\n",
    "\n",
    "        # print \"wrong\" if label does not match\n",
    "        #label = labels_sorted[i]\n",
    "        if label != i_label:\n",
    "            for x in range(28):\n",
    "                y1 = x\n",
    "                y2 = 28 - (x + 1)\n",
    "                x1 = x\n",
    "                x2 = x\n",
    "                tmp[oix_y+y1,oix_x+x1] = 0\n",
    "                tmp[oix_y+y2,oix_x+x2] = 0\n",
    "            \n",
    "        oix_x = 28 * 0\n",
    "        oix_y += 28\n",
    "            \n",
    "        \n",
    "    \n",
    "    writer = png.Writer(width=tmp.shape[1], height=tmp.shape[0], bitdepth=8, greyscale=True)\n",
    "    with open(filename, 'wb') as ofile:\n",
    "        writer.write(ofile, tmp)"
   ]
  },
  {
   "cell_type": "code",
   "execution_count": 88,
   "id": "1e13c741-8e36-495f-9a1c-6dc63ff6ab16",
   "metadata": {},
   "outputs": [],
   "source": [
    "max_count = 100\n",
    "\n",
    "print_output(\n",
    "    'worst-performers.png',\n",
    "    predictions_argmax_sorted[0:max_count],\n",
    "    predictions_max_probability_sorted[0:max_count],\n",
    "    images_sorted[0:max_count],\n",
    "    images_sorted_index[0:max_count],\n",
    "    labels_sorted[0:max_count],\n",
    ")"
   ]
  },
  {
   "cell_type": "code",
   "execution_count": null,
   "id": "a09b8196-e7f0-4ea8-abc1-ae712342a2a0",
   "metadata": {},
   "outputs": [],
   "source": [
    "# TODO plot the best predictions as well as the worst"
   ]
  },
  {
   "cell_type": "code",
   "execution_count": 87,
   "id": "eee7f1ca-6fdf-469e-b682-4d3326e307bb",
   "metadata": {},
   "outputs": [],
   "source": [
    "max_count = 100\n",
    "l = len(predictions_max_probability_sorted)\n",
    "\n",
    "print_output(\n",
    "    'best-performers.png',\n",
    "    predictions_argmax_sorted[-max_count:],\n",
    "    predictions_max_probability_sorted[-max_count:],\n",
    "    images_sorted[-max_count:],\n",
    "    images_sorted_index[-max_count:],\n",
    "    labels_sorted[-max_count:],\n",
    ")"
   ]
  },
  {
   "cell_type": "code",
   "execution_count": null,
   "id": "8b7ab416-ced9-4382-998c-c4522dcd784d",
   "metadata": {},
   "outputs": [],
   "source": []
  }
 ],
 "metadata": {
  "kernelspec": {
   "display_name": "Python 3 (ipykernel)",
   "language": "python",
   "name": "python3"
  },
  "language_info": {
   "codemirror_mode": {
    "name": "ipython",
    "version": 3
   },
   "file_extension": ".py",
   "mimetype": "text/x-python",
   "name": "python",
   "nbconvert_exporter": "python",
   "pygments_lexer": "ipython3",
   "version": "3.12.7"
  }
 },
 "nbformat": 4,
 "nbformat_minor": 5
}
