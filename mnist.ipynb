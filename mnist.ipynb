{
 "cells": [
  {
   "cell_type": "markdown",
   "id": "4f5c96c1-726d-4c97-956b-592b8faa118b",
   "metadata": {},
   "source": [
    "# mnist"
   ]
  },
  {
   "cell_type": "code",
   "execution_count": 9,
   "id": "b457ab3a-5b27-41dd-b21f-d670f3bd18eb",
   "metadata": {},
   "outputs": [],
   "source": [
    "import numpy"
   ]
  },
  {
   "cell_type": "code",
   "execution_count": null,
   "id": "739c6f57-c970-46f5-b3b1-f65198fde59b",
   "metadata": {},
   "outputs": [],
   "source": [
    "import matplotlib.pyplot as plt"
   ]
  },
  {
   "cell_type": "code",
   "execution_count": 1,
   "id": "0058b60c-2370-47fb-a306-16d0a659d3e8",
   "metadata": {},
   "outputs": [
    {
     "name": "stderr",
     "output_type": "stream",
     "text": [
      "2025-05-05 12:23:12.558213: I tensorflow/core/util/port.cc:153] oneDNN custom operations are on. You may see slightly different numerical results due to floating-point round-off errors from different computation orders. To turn them off, set the environment variable `TF_ENABLE_ONEDNN_OPTS=0`.\n",
      "2025-05-05 12:23:12.558680: I external/local_xla/xla/tsl/cuda/cudart_stub.cc:32] Could not find cuda drivers on your machine, GPU will not be used.\n",
      "2025-05-05 12:23:12.561503: I external/local_xla/xla/tsl/cuda/cudart_stub.cc:32] Could not find cuda drivers on your machine, GPU will not be used.\n",
      "2025-05-05 12:23:12.568930: E external/local_xla/xla/stream_executor/cuda/cuda_fft.cc:467] Unable to register cuFFT factory: Attempting to register factory for plugin cuFFT when one has already been registered\n",
      "WARNING: All log messages before absl::InitializeLog() is called are written to STDERR\n",
      "E0000 00:00:1746444192.581821    1031 cuda_dnn.cc:8579] Unable to register cuDNN factory: Attempting to register factory for plugin cuDNN when one has already been registered\n",
      "E0000 00:00:1746444192.585495    1031 cuda_blas.cc:1407] Unable to register cuBLAS factory: Attempting to register factory for plugin cuBLAS when one has already been registered\n",
      "W0000 00:00:1746444192.594638    1031 computation_placer.cc:177] computation placer already registered. Please check linkage and avoid linking the same target more than once.\n",
      "W0000 00:00:1746444192.594654    1031 computation_placer.cc:177] computation placer already registered. Please check linkage and avoid linking the same target more than once.\n",
      "W0000 00:00:1746444192.594655    1031 computation_placer.cc:177] computation placer already registered. Please check linkage and avoid linking the same target more than once.\n",
      "W0000 00:00:1746444192.594657    1031 computation_placer.cc:177] computation placer already registered. Please check linkage and avoid linking the same target more than once.\n",
      "2025-05-05 12:23:12.599101: I tensorflow/core/platform/cpu_feature_guard.cc:210] This TensorFlow binary is optimized to use available CPU instructions in performance-critical operations.\n",
      "To enable the following instructions: AVX2 AVX512F AVX512_VNNI FMA, in other operations, rebuild TensorFlow with the appropriate compiler flags.\n"
     ]
    }
   ],
   "source": [
    "from tensorflow.keras.datasets import mnist"
   ]
  },
  {
   "cell_type": "code",
   "execution_count": 2,
   "id": "50a06631-c2ab-4b85-9954-aaadc01f3ba2",
   "metadata": {},
   "outputs": [
    {
     "name": "stdout",
     "output_type": "stream",
     "text": [
      "Downloading data from https://storage.googleapis.com/tensorflow/tf-keras-datasets/mnist.npz\n",
      "\u001b[1m11490434/11490434\u001b[0m \u001b[32m━━━━━━━━━━━━━━━━━━━━\u001b[0m\u001b[37m\u001b[0m \u001b[1m2s\u001b[0m 0us/step\n"
     ]
    }
   ],
   "source": [
    "(train_images, train_labels), (test_images, test_labels) = mnist.load_data()"
   ]
  },
  {
   "cell_type": "code",
   "execution_count": 5,
   "id": "1f35b034-0bd2-4e02-85bc-acb195974b7b",
   "metadata": {},
   "outputs": [
    {
     "data": {
      "text/plain": [
       "(60000, 10000)"
      ]
     },
     "execution_count": 5,
     "metadata": {},
     "output_type": "execute_result"
    }
   ],
   "source": [
    "len(train_labels), len(test_labels)"
   ]
  },
  {
   "cell_type": "code",
   "execution_count": 7,
   "id": "fae4d2f0-9fa7-45b0-8bc5-afc44bd0fd84",
   "metadata": {},
   "outputs": [
    {
     "data": {
      "text/plain": [
       "numpy.uint8"
      ]
     },
     "execution_count": 7,
     "metadata": {},
     "output_type": "execute_result"
    }
   ],
   "source": [
    "type(train_labels[0])"
   ]
  },
  {
   "cell_type": "code",
   "execution_count": 12,
   "id": "5bb9fc52-edb5-491f-9a46-9091055d36be",
   "metadata": {},
   "outputs": [],
   "source": [
    "images = numpy.concatenate((train_images, test_images))"
   ]
  },
  {
   "cell_type": "code",
   "execution_count": 13,
   "id": "24f232ff-681e-43be-97cf-10e247e6fabc",
   "metadata": {},
   "outputs": [
    {
     "data": {
      "text/plain": [
       "70000"
      ]
     },
     "execution_count": 13,
     "metadata": {},
     "output_type": "execute_result"
    }
   ],
   "source": [
    "len(images)"
   ]
  },
  {
   "cell_type": "code",
   "execution_count": 14,
   "id": "99ec92d7-ebd9-4ec9-81e0-91c8a5914b25",
   "metadata": {},
   "outputs": [],
   "source": [
    "labels = numpy.concatenate((train_labels, test_labels))"
   ]
  },
  {
   "cell_type": "code",
   "execution_count": 15,
   "id": "4a0ded75-2636-41b6-a0c3-f676ae85f41c",
   "metadata": {},
   "outputs": [
    {
     "data": {
      "text/plain": [
       "70000"
      ]
     },
     "execution_count": 15,
     "metadata": {},
     "output_type": "execute_result"
    }
   ],
   "source": [
    "len(labels)"
   ]
  },
  {
   "cell_type": "code",
   "execution_count": 26,
   "id": "7758c52c-f6a5-47b0-b241-d0c10392e411",
   "metadata": {},
   "outputs": [],
   "source": [
    "permutation_index = numpy.random.permutation(len(labels))"
   ]
  },
  {
   "cell_type": "code",
   "execution_count": 27,
   "id": "03721b0b-6eb9-47e5-9bc3-45841d1eaccb",
   "metadata": {},
   "outputs": [],
   "source": [
    "permute_images = images[permutation_index]"
   ]
  },
  {
   "cell_type": "code",
   "execution_count": 28,
   "id": "a33fd38c-15c5-4a11-9d96-070071cf08d7",
   "metadata": {},
   "outputs": [],
   "source": [
    "permute_labels = labels[permutation_index]"
   ]
  },
  {
   "cell_type": "code",
   "execution_count": 34,
   "id": "3937ae1b-44bf-4637-95ed-570f23ce16ee",
   "metadata": {},
   "outputs": [],
   "source": [
    "new_train_images = permute_images[0:50000]\n",
    "new_train_labels = permute_labels[0:50000]"
   ]
  },
  {
   "cell_type": "code",
   "execution_count": 35,
   "id": "9b6fb724-5563-43b5-8122-df4e0e230b4d",
   "metadata": {},
   "outputs": [],
   "source": [
    "new_test_images = permute_images[50000:60000]\n",
    "new_test_labels = permute_labels[50000:60000]"
   ]
  },
  {
   "cell_type": "code",
   "execution_count": 37,
   "id": "26771778-ba51-449a-b4ea-088cb4c732dc",
   "metadata": {},
   "outputs": [],
   "source": [
    "new_validation_images = permute_images[60000:]\n",
    "new_validation_labels = permute_labels[60000:]"
   ]
  },
  {
   "cell_type": "markdown",
   "id": "5cbd8149-7516-45af-aa7f-9d628827d2ed",
   "metadata": {},
   "source": [
    "invert the colors"
   ]
  },
  {
   "cell_type": "code",
   "execution_count": 109,
   "id": "60dc3042-2ce8-43e2-bc89-a0c2066bc047",
   "metadata": {},
   "outputs": [],
   "source": [
    "new_train_images = 255 - new_train_images"
   ]
  },
  {
   "cell_type": "code",
   "execution_count": 111,
   "id": "0555595c-0c23-426f-ab40-82326b4dfd0f",
   "metadata": {},
   "outputs": [],
   "source": [
    "new_test_images = 255 - new_test_images"
   ]
  },
  {
   "cell_type": "code",
   "execution_count": 112,
   "id": "8ef603ad-d0e1-4214-aa18-957913ecb5d4",
   "metadata": {},
   "outputs": [],
   "source": [
    "new_validation_images = 255 - new_validation_images"
   ]
  },
  {
   "cell_type": "markdown",
   "id": "48819e7c-b7d8-463f-a154-28130542042a",
   "metadata": {},
   "source": [
    "example: how to produce a single png image"
   ]
  },
  {
   "cell_type": "code",
   "execution_count": 38,
   "id": "6e57bef0-3c1a-45e7-954d-bb2f7c53853b",
   "metadata": {},
   "outputs": [
    {
     "data": {
      "text/plain": [
       "(28, 28)"
      ]
     },
     "execution_count": 38,
     "metadata": {},
     "output_type": "execute_result"
    }
   ],
   "source": [
    "image = new_train_images[0]\n",
    "image.shape"
   ]
  },
  {
   "cell_type": "code",
   "execution_count": 41,
   "id": "03c79b62-086c-46c1-97ad-b998c9ef7776",
   "metadata": {},
   "outputs": [
    {
     "data": {
      "text/plain": [
       "numpy.uint8"
      ]
     },
     "execution_count": 41,
     "metadata": {},
     "output_type": "execute_result"
    }
   ],
   "source": [
    "type(image[0][0])"
   ]
  },
  {
   "cell_type": "code",
   "execution_count": 45,
   "id": "953560cf-bba8-48b7-abbb-258447443f95",
   "metadata": {},
   "outputs": [],
   "source": [
    "import png"
   ]
  },
  {
   "cell_type": "code",
   "execution_count": 54,
   "id": "52860fc9-222a-49d2-a1a5-208ae25a0433",
   "metadata": {},
   "outputs": [],
   "source": [
    "writer = png.Writer(width=28, height=28, bitdepth=8, greyscale=True)\n",
    "with open('output.png', 'wb') as f:\n",
    "    writer.write(f, numpy.reshape(image, shape=(28,28)))"
   ]
  },
  {
   "cell_type": "code",
   "execution_count": null,
   "id": "1f12a34d-39ba-40c7-badf-47704acb2690",
   "metadata": {},
   "outputs": [],
   "source": [
    "png.from_array(numpy.reshape(image, shape=(28,28)), 'L')"
   ]
  },
  {
   "cell_type": "markdown",
   "id": "e5438c37-d786-45d1-8213-e2b5e99824ad",
   "metadata": {},
   "source": [
    "select first digits 0-9"
   ]
  },
  {
   "cell_type": "code",
   "execution_count": 124,
   "id": "072bd2f4-41de-49a4-a0b6-f4e84dd51f29",
   "metadata": {},
   "outputs": [
    {
     "data": {
      "text/plain": [
       "array([ 6, 10,  0,  5,  1, 12, 13,  9, 20,  3])"
      ]
     },
     "execution_count": 124,
     "metadata": {},
     "output_type": "execute_result"
    }
   ],
   "source": [
    "digit_index = numpy.array([], dtype=numpy.int64)\n",
    "for digit in range(10):\n",
    "    digit_index = numpy.append(digit_index, numpy.where(new_train_labels == digit)[0][0])\n",
    "\n",
    "digit_index"
   ]
  },
  {
   "cell_type": "code",
   "execution_count": null,
   "id": "4db5cdd4-d0be-414b-a6d2-f97f26a559e8",
   "metadata": {},
   "outputs": [],
   "source": [
    "# is now working, but below more efficient\n",
    "all_digit_image = numpy.reshape(numpy.array([], dtype=numpy.uint8), shape=(0,28))\n",
    "print(all_digit_image)\n",
    "\n",
    "for digit_index_ in numpy.nditer(digit_index):\n",
    "    digit_image = new_train_images[digit_index_]\n",
    "    digit_image_reshape = numpy.reshape(digit_image, shape=(28,28))\n",
    "    all_digit_image = numpy.concatenate((all_digit_image, digit_image_reshape), axis=0)\n",
    "\n",
    "writer = png.Writer(width=all_digit_image.shape[1], height=all_digit_image.shape[0], bitdepth=8, greyscale=True)\n",
    "with open('all_digit_image_0.png', 'wb') as ofile:\n",
    "    writer.write(ofile, all_digit_image)"
   ]
  },
  {
   "cell_type": "code",
   "execution_count": 126,
   "id": "fdfa467e-bba0-41be-9a81-34e641ef9afa",
   "metadata": {},
   "outputs": [
    {
     "data": {
      "text/plain": [
       "array([ 6, 10,  0,  5,  1, 12, 13,  9, 20,  3])"
      ]
     },
     "execution_count": 126,
     "metadata": {},
     "output_type": "execute_result"
    }
   ],
   "source": [
    "digit_index"
   ]
  },
  {
   "cell_type": "code",
   "execution_count": 127,
   "id": "519ff193-3cf7-4df3-9287-bf462bcbc34f",
   "metadata": {},
   "outputs": [
    {
     "data": {
      "text/plain": [
       "10"
      ]
     },
     "execution_count": 127,
     "metadata": {},
     "output_type": "execute_result"
    }
   ],
   "source": [
    "all_digit_images = []\n",
    "\n",
    "for digit_index_ in numpy.nditer(digit_index):\n",
    "    digit_image = new_train_images[digit_index_]\n",
    "    digit_image_reshape = numpy.reshape(digit_image, shape=(28,28))\n",
    "    all_digit_images.append(digit_image_reshape)\n",
    "\n",
    "len(all_digit_images)"
   ]
  },
  {
   "cell_type": "code",
   "execution_count": 128,
   "id": "8dc6613d-de12-4e59-b30d-801fcccbdd8e",
   "metadata": {},
   "outputs": [
    {
     "data": {
      "text/plain": [
       "(280, 28)"
      ]
     },
     "execution_count": 128,
     "metadata": {},
     "output_type": "execute_result"
    }
   ],
   "source": [
    "all_digit_image = numpy.concatenate(all_digit_images)\n",
    "all_digit_image.shape"
   ]
  },
  {
   "cell_type": "code",
   "execution_count": 129,
   "id": "6c17e6fa-db32-4941-8dc7-8046d455a996",
   "metadata": {},
   "outputs": [],
   "source": [
    "writer = png.Writer(width=all_digit_image.shape[1], height=all_digit_image.shape[0], bitdepth=8, greyscale=True)\n",
    "with open('all_digit_image.png', 'wb') as ofile:\n",
    "    writer.write(ofile, all_digit_image)"
   ]
  },
  {
   "cell_type": "markdown",
   "id": "92f39b40-de59-4669-970d-f532de23aa40",
   "metadata": {},
   "source": [
    "print the first 100 digits, with their index, and their label"
   ]
  },
  {
   "cell_type": "code",
   "execution_count": 113,
   "id": "76884e32-6422-4328-a9a4-49bfa9057171",
   "metadata": {},
   "outputs": [],
   "source": [
    "size_y = 100\n",
    "size_x = 10\n",
    "\n",
    "tmp = numpy.full((size_y*28, size_x*28), 255, dtype=numpy.uint8)\n",
    "\n",
    "for i in range(size_y):\n",
    "    i_string = f'{i}'\n",
    "    \n",
    "    oix_x = 28 * 0\n",
    "    oix_y = 28 * i\n",
    "\n",
    "    # print the index number\n",
    "    for i_string_char in i_string:\n",
    "        i_string_char_int = int(i_string_char) - int('0')\n",
    "        #print(f'character is: {i_string_char}, {i_string_char_int}')\n",
    "        tmp[oix_y:oix_y+28, oix_x:oix_x+28] = new_train_images[digit_index[i_string_char_int]]\n",
    "        oix_x += 28\n",
    "\n",
    "    oix_x = 28 * 5 # assumes max 5 chars for index\n",
    "    oix_x += 28 # leave a space\n",
    "\n",
    "    # print the label\n",
    "    i_label = new_train_labels[i]\n",
    "    tmp[oix_y:oix_y+28, oix_x:oix_x+28] = new_train_images[digit_index[i_label]]\n",
    "\n",
    "    oix_x += 28 * 2\n",
    "    \n",
    "    # print the actual image observed\n",
    "    tmp[oix_y:oix_y+28, oix_x:oix_x+28] = new_train_images[i]\n",
    "\n",
    "    oix_x = 28 * 0\n",
    "    oix_y += 28\n",
    "    #break\n",
    "\n",
    "writer = png.Writer(width=tmp.shape[1], height=tmp.shape[0], bitdepth=8, greyscale=True)\n",
    "with open('tmp.png', 'wb') as ofile:\n",
    "    writer.write(ofile, tmp)"
   ]
  },
  {
   "cell_type": "markdown",
   "id": "7c9fd405-33af-4e85-995b-6ce5a061ddb9",
   "metadata": {},
   "source": [
    "train neural net"
   ]
  },
  {
   "cell_type": "code",
   "execution_count": 133,
   "id": "a9fb9695-1efc-40e1-9214-6c1fabea943c",
   "metadata": {},
   "outputs": [],
   "source": [
    "import os\n",
    "os.environ[\"CUDA_DEVICE_ORDER\"] = \"PCI_BUS_ID\"\n",
    "os.environ[\"CUDA_VISIBLE_DEVICES\"] = \"\""
   ]
  },
  {
   "cell_type": "code",
   "execution_count": 134,
   "id": "a798e445-3f76-4191-ae15-49f9cf51740d",
   "metadata": {},
   "outputs": [],
   "source": [
    "from tensorflow import keras\n",
    "from tensorflow.keras import layers"
   ]
  },
  {
   "cell_type": "code",
   "execution_count": 349,
   "id": "fa72856d-c40a-474b-8f78-c1a2607d1c0b",
   "metadata": {},
   "outputs": [
    {
     "name": "stdout",
     "output_type": "stream",
     "text": [
      "layer size: 8\n"
     ]
    }
   ],
   "source": [
    "# this is my model\n",
    "layer_size = 8 #28\n",
    "print(f'layer size: {layer_size}')\n",
    "\n",
    "model = keras.Sequential([\n",
    "    layers.Dense(layer_size, activation='relu'),\n",
    "    layers.Dense(10, activation='softmax'),\n",
    "])\n",
    "\n",
    "model.compile(optimizer='rmsprop', loss='sparse_categorical_crossentropy', metrics=['accuracy'])"
   ]
  },
  {
   "cell_type": "code",
   "execution_count": 158,
   "id": "4a43f598-af67-4f0d-9a47-c18e507c42d2",
   "metadata": {},
   "outputs": [],
   "source": [
    "# this is the original model\n",
    "model = keras.Sequential([\n",
    "    layers.Dense(512, activation=\"relu\"),\n",
    "    layers.Dense(10, activation=\"softmax\")\n",
    "])\n",
    "\n",
    "model.compile(optimizer='rmsprop', loss='sparse_categorical_crossentropy', metrics=['accuracy'])"
   ]
  },
  {
   "cell_type": "code",
   "execution_count": 142,
   "id": "59ad6722-d330-49cf-853a-a806d6ef74b8",
   "metadata": {},
   "outputs": [],
   "source": [
    "new_train_images_float = new_train_images.astype('float32') / 255.0\n",
    "new_test_images_float = new_test_images.astype('float32') / 255.0\n",
    "new_validation_images_float = new_validation_images.astype('float32') / 255.0"
   ]
  },
  {
   "cell_type": "code",
   "execution_count": 146,
   "id": "163b4667-67f5-4c88-85ec-6d00b172500f",
   "metadata": {},
   "outputs": [],
   "source": [
    "new_train_images_float = new_train_images_float.reshape((new_train_images_float.shape[0], new_train_images_float.shape[1]*new_train_images_float.shape[2]))\n",
    "new_test_images_float = new_test_images_float.reshape((new_test_images_float.shape[0], new_test_images_float.shape[1]*new_test_images_float.shape[2]))\n",
    "new_validation_images_float = new_validation_images_float.reshape((new_validation_images_float.shape[0], new_validation_images_float.shape[1]*new_validation_images_float.shape[2]))"
   ]
  },
  {
   "cell_type": "code",
   "execution_count": 147,
   "id": "85fc11c9-9fe2-4584-8fc1-77c743000e3a",
   "metadata": {},
   "outputs": [
    {
     "data": {
      "text/plain": [
       "(50000, 784)"
      ]
     },
     "execution_count": 147,
     "metadata": {},
     "output_type": "execute_result"
    }
   ],
   "source": [
    "new_train_images_float.shape"
   ]
  },
  {
   "cell_type": "code",
   "execution_count": 148,
   "id": "99f3b9eb-bf02-476f-94e6-9a614bf76ba6",
   "metadata": {},
   "outputs": [
    {
     "data": {
      "text/plain": [
       "(50000,)"
      ]
     },
     "execution_count": 148,
     "metadata": {},
     "output_type": "execute_result"
    }
   ],
   "source": [
    "new_train_labels.shape"
   ]
  },
  {
   "cell_type": "code",
   "execution_count": 150,
   "id": "a4d4852f-ac28-4e31-8b00-cb6e59b5382f",
   "metadata": {},
   "outputs": [
    {
     "data": {
      "text/plain": [
       "numpy.ndarray"
      ]
     },
     "execution_count": 150,
     "metadata": {},
     "output_type": "execute_result"
    }
   ],
   "source": [
    "type(new_train_labels)"
   ]
  },
  {
   "cell_type": "code",
   "execution_count": 151,
   "id": "35c60707-88c3-4a3e-bd20-26f62aa4ec2f",
   "metadata": {},
   "outputs": [
    {
     "data": {
      "text/plain": [
       "numpy.ndarray"
      ]
     },
     "execution_count": 151,
     "metadata": {},
     "output_type": "execute_result"
    }
   ],
   "source": [
    "type(new_train_images_float)"
   ]
  },
  {
   "cell_type": "code",
   "execution_count": 152,
   "id": "da55989b-f787-4fd3-b5b4-0f84a1abb144",
   "metadata": {},
   "outputs": [
    {
     "data": {
      "text/plain": [
       "dtype('uint8')"
      ]
     },
     "execution_count": 152,
     "metadata": {},
     "output_type": "execute_result"
    }
   ],
   "source": [
    "new_train_labels.dtype"
   ]
  },
  {
   "cell_type": "code",
   "execution_count": 153,
   "id": "da000e11-7277-4e5c-824e-1a74289757e0",
   "metadata": {},
   "outputs": [
    {
     "data": {
      "text/plain": [
       "dtype('float32')"
      ]
     },
     "execution_count": 153,
     "metadata": {},
     "output_type": "execute_result"
    }
   ],
   "source": [
    "new_train_images_float.dtype"
   ]
  },
  {
   "cell_type": "code",
   "execution_count": 154,
   "id": "67fd4de4-fc99-4930-a718-4dc492d80a47",
   "metadata": {},
   "outputs": [
    {
     "data": {
      "text/plain": [
       "array([2, 4, 2, ..., 5, 4, 5], dtype=uint8)"
      ]
     },
     "execution_count": 154,
     "metadata": {},
     "output_type": "execute_result"
    }
   ],
   "source": [
    "new_train_labels"
   ]
  },
  {
   "cell_type": "code",
   "execution_count": 156,
   "id": "dee14424-5a8b-4068-a517-381ee3f84f69",
   "metadata": {},
   "outputs": [
    {
     "data": {
      "text/plain": [
       "array([[1., 1., 1., ..., 1., 1., 1.],\n",
       "       [1., 1., 1., ..., 1., 1., 1.],\n",
       "       [1., 1., 1., ..., 1., 1., 1.],\n",
       "       ...,\n",
       "       [1., 1., 1., ..., 1., 1., 1.],\n",
       "       [1., 1., 1., ..., 1., 1., 1.],\n",
       "       [1., 1., 1., ..., 1., 1., 1.]], dtype=float32)"
      ]
     },
     "execution_count": 156,
     "metadata": {},
     "output_type": "execute_result"
    }
   ],
   "source": [
    "new_train_images_float"
   ]
  },
  {
   "cell_type": "code",
   "execution_count": null,
   "id": "bf0c0807-62d7-4f60-a5f3-3d6b7164bd07",
   "metadata": {
    "scrolled": true
   },
   "outputs": [
    {
     "name": "stdout",
     "output_type": "stream",
     "text": [
      "Epoch 1/10000\n",
      "\u001b[1m391/391\u001b[0m \u001b[32m━━━━━━━━━━━━━━━━━━━━\u001b[0m\u001b[37m\u001b[0m \u001b[1m2s\u001b[0m 2ms/step - accuracy: 0.2391 - loss: 2.0890\n",
      "Epoch 2/10000\n",
      "\u001b[1m391/391\u001b[0m \u001b[32m━━━━━━━━━━━━━━━━━━━━\u001b[0m\u001b[37m\u001b[0m \u001b[1m1s\u001b[0m 1ms/step - accuracy: 0.5675 - loss: 1.2867\n",
      "Epoch 3/10000\n",
      "\u001b[1m391/391\u001b[0m \u001b[32m━━━━━━━━━━━━━━━━━━━━\u001b[0m\u001b[37m\u001b[0m \u001b[1m1s\u001b[0m 1ms/step - accuracy: 0.7324 - loss: 0.9010\n",
      "Epoch 4/10000\n",
      "\u001b[1m391/391\u001b[0m \u001b[32m━━━━━━━━━━━━━━━━━━━━\u001b[0m\u001b[37m\u001b[0m \u001b[1m1s\u001b[0m 1ms/step - accuracy: 0.7730 - loss: 0.7526\n",
      "Epoch 5/10000\n",
      "\u001b[1m391/391\u001b[0m \u001b[32m━━━━━━━━━━━━━━━━━━━━\u001b[0m\u001b[37m\u001b[0m \u001b[1m1s\u001b[0m 2ms/step - accuracy: 0.7954 - loss: 0.6754\n",
      "Epoch 6/10000\n",
      "\u001b[1m391/391\u001b[0m \u001b[32m━━━━━━━━━━━━━━━━━━━━\u001b[0m\u001b[37m\u001b[0m \u001b[1m1s\u001b[0m 1ms/step - accuracy: 0.8079 - loss: 0.6389\n",
      "Epoch 7/10000\n",
      "\u001b[1m391/391\u001b[0m \u001b[32m━━━━━━━━━━━━━━━━━━━━\u001b[0m\u001b[37m\u001b[0m \u001b[1m1s\u001b[0m 1ms/step - accuracy: 0.8141 - loss: 0.6164\n",
      "Epoch 8/10000\n",
      "\u001b[1m391/391\u001b[0m \u001b[32m━━━━━━━━━━━━━━━━━━━━\u001b[0m\u001b[37m\u001b[0m \u001b[1m1s\u001b[0m 1ms/step - accuracy: 0.8244 - loss: 0.5850\n",
      "Epoch 9/10000\n",
      "\u001b[1m391/391\u001b[0m \u001b[32m━━━━━━━━━━━━━━━━━━━━\u001b[0m\u001b[37m\u001b[0m \u001b[1m1s\u001b[0m 1ms/step - accuracy: 0.8251 - loss: 0.5834\n",
      "Epoch 10/10000\n",
      "\u001b[1m391/391\u001b[0m \u001b[32m━━━━━━━━━━━━━━━━━━━━\u001b[0m\u001b[37m\u001b[0m \u001b[1m1s\u001b[0m 1ms/step - accuracy: 0.8293 - loss: 0.5686\n",
      "Epoch 11/10000\n",
      "\u001b[1m391/391\u001b[0m \u001b[32m━━━━━━━━━━━━━━━━━━━━\u001b[0m\u001b[37m\u001b[0m \u001b[1m1s\u001b[0m 1ms/step - accuracy: 0.8310 - loss: 0.5568\n",
      "Epoch 12/10000\n",
      "\u001b[1m391/391\u001b[0m \u001b[32m━━━━━━━━━━━━━━━━━━━━\u001b[0m\u001b[37m\u001b[0m \u001b[1m1s\u001b[0m 2ms/step - accuracy: 0.8380 - loss: 0.5389\n",
      "Epoch 13/10000\n",
      "\u001b[1m391/391\u001b[0m \u001b[32m━━━━━━━━━━━━━━━━━━━━\u001b[0m\u001b[37m\u001b[0m \u001b[1m1s\u001b[0m 2ms/step - accuracy: 0.8377 - loss: 0.5422\n",
      "Epoch 14/10000\n",
      "\u001b[1m391/391\u001b[0m \u001b[32m━━━━━━━━━━━━━━━━━━━━\u001b[0m\u001b[37m\u001b[0m \u001b[1m1s\u001b[0m 2ms/step - accuracy: 0.8429 - loss: 0.5367\n",
      "Epoch 15/10000\n",
      "\u001b[1m391/391\u001b[0m \u001b[32m━━━━━━━━━━━━━━━━━━━━\u001b[0m\u001b[37m\u001b[0m \u001b[1m1s\u001b[0m 2ms/step - accuracy: 0.8425 - loss: 0.5341\n",
      "Epoch 16/10000\n",
      "\u001b[1m391/391\u001b[0m \u001b[32m━━━━━━━━━━━━━━━━━━━━\u001b[0m\u001b[37m\u001b[0m \u001b[1m1s\u001b[0m 2ms/step - accuracy: 0.8432 - loss: 0.5242\n",
      "Epoch 17/10000\n",
      "\u001b[1m391/391\u001b[0m \u001b[32m━━━━━━━━━━━━━━━━━━━━\u001b[0m\u001b[37m\u001b[0m \u001b[1m1s\u001b[0m 2ms/step - accuracy: 0.8447 - loss: 0.5263\n",
      "Epoch 18/10000\n",
      "\u001b[1m391/391\u001b[0m \u001b[32m━━━━━━━━━━━━━━━━━━━━\u001b[0m\u001b[37m\u001b[0m \u001b[1m1s\u001b[0m 2ms/step - accuracy: 0.8498 - loss: 0.5106\n",
      "Epoch 19/10000\n",
      "\u001b[1m391/391\u001b[0m \u001b[32m━━━━━━━━━━━━━━━━━━━━\u001b[0m\u001b[37m\u001b[0m \u001b[1m1s\u001b[0m 1ms/step - accuracy: 0.8493 - loss: 0.5214\n",
      "Epoch 20/10000\n",
      "\u001b[1m391/391\u001b[0m \u001b[32m━━━━━━━━━━━━━━━━━━━━\u001b[0m\u001b[37m\u001b[0m \u001b[1m1s\u001b[0m 1ms/step - accuracy: 0.8470 - loss: 0.5191\n",
      "Epoch 21/10000\n",
      "\u001b[1m391/391\u001b[0m \u001b[32m━━━━━━━━━━━━━━━━━━━━\u001b[0m\u001b[37m\u001b[0m \u001b[1m1s\u001b[0m 1ms/step - accuracy: 0.8478 - loss: 0.5124\n",
      "Epoch 22/10000\n",
      "\u001b[1m391/391\u001b[0m \u001b[32m━━━━━━━━━━━━━━━━━━━━\u001b[0m\u001b[37m\u001b[0m \u001b[1m1s\u001b[0m 1ms/step - accuracy: 0.8494 - loss: 0.5066\n",
      "Epoch 23/10000\n",
      "\u001b[1m391/391\u001b[0m \u001b[32m━━━━━━━━━━━━━━━━━━━━\u001b[0m\u001b[37m\u001b[0m \u001b[1m1s\u001b[0m 1ms/step - accuracy: 0.8500 - loss: 0.5104\n",
      "Epoch 24/10000\n",
      "\u001b[1m391/391\u001b[0m \u001b[32m━━━━━━━━━━━━━━━━━━━━\u001b[0m\u001b[37m\u001b[0m \u001b[1m1s\u001b[0m 1ms/step - accuracy: 0.8498 - loss: 0.5047\n",
      "Epoch 25/10000\n",
      "\u001b[1m391/391\u001b[0m \u001b[32m━━━━━━━━━━━━━━━━━━━━\u001b[0m\u001b[37m\u001b[0m \u001b[1m1s\u001b[0m 2ms/step - accuracy: 0.8504 - loss: 0.5092\n",
      "Epoch 26/10000\n",
      "\u001b[1m391/391\u001b[0m \u001b[32m━━━━━━━━━━━━━━━━━━━━\u001b[0m\u001b[37m\u001b[0m \u001b[1m1s\u001b[0m 1ms/step - accuracy: 0.8527 - loss: 0.5045\n",
      "Epoch 27/10000\n",
      "\u001b[1m391/391\u001b[0m \u001b[32m━━━━━━━━━━━━━━━━━━━━\u001b[0m\u001b[37m\u001b[0m \u001b[1m1s\u001b[0m 1ms/step - accuracy: 0.8515 - loss: 0.5035\n",
      "Epoch 28/10000\n",
      "\u001b[1m391/391\u001b[0m \u001b[32m━━━━━━━━━━━━━━━━━━━━\u001b[0m\u001b[37m\u001b[0m \u001b[1m1s\u001b[0m 2ms/step - accuracy: 0.8552 - loss: 0.5016\n",
      "Epoch 29/10000\n",
      "\u001b[1m391/391\u001b[0m \u001b[32m━━━━━━━━━━━━━━━━━━━━\u001b[0m\u001b[37m\u001b[0m \u001b[1m1s\u001b[0m 1ms/step - accuracy: 0.8553 - loss: 0.4977\n",
      "Epoch 30/10000\n",
      "\u001b[1m391/391\u001b[0m \u001b[32m━━━━━━━━━━━━━━━━━━━━\u001b[0m\u001b[37m\u001b[0m \u001b[1m1s\u001b[0m 1ms/step - accuracy: 0.8542 - loss: 0.4941\n",
      "Epoch 31/10000\n",
      "\u001b[1m391/391\u001b[0m \u001b[32m━━━━━━━━━━━━━━━━━━━━\u001b[0m\u001b[37m\u001b[0m \u001b[1m1s\u001b[0m 1ms/step - accuracy: 0.8583 - loss: 0.4849\n",
      "Epoch 32/10000\n",
      "\u001b[1m391/391\u001b[0m \u001b[32m━━━━━━━━━━━━━━━━━━━━\u001b[0m\u001b[37m\u001b[0m \u001b[1m1s\u001b[0m 1ms/step - accuracy: 0.8557 - loss: 0.4939\n",
      "Epoch 33/10000\n",
      "\u001b[1m391/391\u001b[0m \u001b[32m━━━━━━━━━━━━━━━━━━━━\u001b[0m\u001b[37m\u001b[0m \u001b[1m1s\u001b[0m 2ms/step - accuracy: 0.8582 - loss: 0.4865\n",
      "Epoch 34/10000\n",
      "\u001b[1m391/391\u001b[0m \u001b[32m━━━━━━━━━━━━━━━━━━━━\u001b[0m\u001b[37m\u001b[0m \u001b[1m1s\u001b[0m 2ms/step - accuracy: 0.8587 - loss: 0.4861\n",
      "Epoch 35/10000\n",
      "\u001b[1m391/391\u001b[0m \u001b[32m━━━━━━━━━━━━━━━━━━━━\u001b[0m\u001b[37m\u001b[0m \u001b[1m1s\u001b[0m 2ms/step - accuracy: 0.8575 - loss: 0.4936\n",
      "Epoch 36/10000\n",
      "\u001b[1m391/391\u001b[0m \u001b[32m━━━━━━━━━━━━━━━━━━━━\u001b[0m\u001b[37m\u001b[0m \u001b[1m1s\u001b[0m 1ms/step - accuracy: 0.8575 - loss: 0.4861\n",
      "Epoch 37/10000\n",
      "\u001b[1m391/391\u001b[0m \u001b[32m━━━━━━━━━━━━━━━━━━━━\u001b[0m\u001b[37m\u001b[0m \u001b[1m1s\u001b[0m 2ms/step - accuracy: 0.8575 - loss: 0.4948\n",
      "Epoch 38/10000\n",
      "\u001b[1m391/391\u001b[0m \u001b[32m━━━━━━━━━━━━━━━━━━━━\u001b[0m\u001b[37m\u001b[0m \u001b[1m1s\u001b[0m 1ms/step - accuracy: 0.8581 - loss: 0.4845\n",
      "Epoch 39/10000\n",
      "\u001b[1m391/391\u001b[0m \u001b[32m━━━━━━━━━━━━━━━━━━━━\u001b[0m\u001b[37m\u001b[0m \u001b[1m1s\u001b[0m 2ms/step - accuracy: 0.8565 - loss: 0.4940\n",
      "Epoch 40/10000\n",
      "\u001b[1m391/391\u001b[0m \u001b[32m━━━━━━━━━━━━━━━━━━━━\u001b[0m\u001b[37m\u001b[0m \u001b[1m1s\u001b[0m 2ms/step - accuracy: 0.8574 - loss: 0.4865\n",
      "Epoch 41/10000\n",
      "\u001b[1m391/391\u001b[0m \u001b[32m━━━━━━━━━━━━━━━━━━━━\u001b[0m\u001b[37m\u001b[0m \u001b[1m1s\u001b[0m 2ms/step - accuracy: 0.8592 - loss: 0.4835\n",
      "Epoch 42/10000\n",
      "\u001b[1m391/391\u001b[0m \u001b[32m━━━━━━━━━━━━━━━━━━━━\u001b[0m\u001b[37m\u001b[0m \u001b[1m1s\u001b[0m 2ms/step - accuracy: 0.8597 - loss: 0.4732\n",
      "Epoch 43/10000\n",
      "\u001b[1m391/391\u001b[0m \u001b[32m━━━━━━━━━━━━━━━━━━━━\u001b[0m\u001b[37m\u001b[0m \u001b[1m1s\u001b[0m 2ms/step - accuracy: 0.8612 - loss: 0.4770\n",
      "Epoch 44/10000\n",
      "\u001b[1m391/391\u001b[0m \u001b[32m━━━━━━━━━━━━━━━━━━━━\u001b[0m\u001b[37m\u001b[0m \u001b[1m1s\u001b[0m 2ms/step - accuracy: 0.8610 - loss: 0.4773\n",
      "Epoch 45/10000\n",
      "\u001b[1m391/391\u001b[0m \u001b[32m━━━━━━━━━━━━━━━━━━━━\u001b[0m\u001b[37m\u001b[0m \u001b[1m1s\u001b[0m 2ms/step - accuracy: 0.8574 - loss: 0.4842\n",
      "Epoch 46/10000\n",
      "\u001b[1m391/391\u001b[0m \u001b[32m━━━━━━━━━━━━━━━━━━━━\u001b[0m\u001b[37m\u001b[0m \u001b[1m1s\u001b[0m 1ms/step - accuracy: 0.8592 - loss: 0.4853\n",
      "Epoch 47/10000\n",
      "\u001b[1m391/391\u001b[0m \u001b[32m━━━━━━━━━━━━━━━━━━━━\u001b[0m\u001b[37m\u001b[0m \u001b[1m1s\u001b[0m 2ms/step - accuracy: 0.8579 - loss: 0.4803\n",
      "Epoch 48/10000\n",
      "\u001b[1m391/391\u001b[0m \u001b[32m━━━━━━━━━━━━━━━━━━━━\u001b[0m\u001b[37m\u001b[0m \u001b[1m1s\u001b[0m 2ms/step - accuracy: 0.8635 - loss: 0.4665\n",
      "Epoch 49/10000\n",
      "\u001b[1m391/391\u001b[0m \u001b[32m━━━━━━━━━━━━━━━━━━━━\u001b[0m\u001b[37m\u001b[0m \u001b[1m1s\u001b[0m 2ms/step - accuracy: 0.8598 - loss: 0.4851\n",
      "Epoch 50/10000\n",
      "\u001b[1m391/391\u001b[0m \u001b[32m━━━━━━━━━━━━━━━━━━━━\u001b[0m\u001b[37m\u001b[0m \u001b[1m1s\u001b[0m 2ms/step - accuracy: 0.8604 - loss: 0.4746\n",
      "Epoch 51/10000\n",
      "\u001b[1m391/391\u001b[0m \u001b[32m━━━━━━━━━━━━━━━━━━━━\u001b[0m\u001b[37m\u001b[0m \u001b[1m1s\u001b[0m 2ms/step - accuracy: 0.8599 - loss: 0.4813\n",
      "Epoch 52/10000\n",
      "\u001b[1m391/391\u001b[0m \u001b[32m━━━━━━━━━━━━━━━━━━━━\u001b[0m\u001b[37m\u001b[0m \u001b[1m1s\u001b[0m 1ms/step - accuracy: 0.8636 - loss: 0.4688\n",
      "Epoch 53/10000\n",
      "\u001b[1m391/391\u001b[0m \u001b[32m━━━━━━━━━━━━━━━━━━━━\u001b[0m\u001b[37m\u001b[0m \u001b[1m1s\u001b[0m 2ms/step - accuracy: 0.8621 - loss: 0.4706\n",
      "Epoch 54/10000\n",
      "\u001b[1m391/391\u001b[0m \u001b[32m━━━━━━━━━━━━━━━━━━━━\u001b[0m\u001b[37m\u001b[0m \u001b[1m1s\u001b[0m 1ms/step - accuracy: 0.8625 - loss: 0.4740\n",
      "Epoch 55/10000\n",
      "\u001b[1m391/391\u001b[0m \u001b[32m━━━━━━━━━━━━━━━━━━━━\u001b[0m\u001b[37m\u001b[0m \u001b[1m1s\u001b[0m 2ms/step - accuracy: 0.8615 - loss: 0.4757\n",
      "Epoch 56/10000\n",
      "\u001b[1m391/391\u001b[0m \u001b[32m━━━━━━━━━━━━━━━━━━━━\u001b[0m\u001b[37m\u001b[0m \u001b[1m1s\u001b[0m 2ms/step - accuracy: 0.8625 - loss: 0.4733\n",
      "Epoch 57/10000\n",
      "\u001b[1m391/391\u001b[0m \u001b[32m━━━━━━━━━━━━━━━━━━━━\u001b[0m\u001b[37m\u001b[0m \u001b[1m1s\u001b[0m 1ms/step - accuracy: 0.8659 - loss: 0.4631\n",
      "Epoch 58/10000\n",
      "\u001b[1m391/391\u001b[0m \u001b[32m━━━━━━━━━━━━━━━━━━━━\u001b[0m\u001b[37m\u001b[0m \u001b[1m1s\u001b[0m 1ms/step - accuracy: 0.8615 - loss: 0.4759\n",
      "Epoch 59/10000\n",
      "\u001b[1m391/391\u001b[0m \u001b[32m━━━━━━━━━━━━━━━━━━━━\u001b[0m\u001b[37m\u001b[0m \u001b[1m1s\u001b[0m 2ms/step - accuracy: 0.8629 - loss: 0.4715\n",
      "Epoch 60/10000\n",
      "\u001b[1m391/391\u001b[0m \u001b[32m━━━━━━━━━━━━━━━━━━━━\u001b[0m\u001b[37m\u001b[0m \u001b[1m1s\u001b[0m 2ms/step - accuracy: 0.8647 - loss: 0.4593\n",
      "Epoch 61/10000\n",
      "\u001b[1m391/391\u001b[0m \u001b[32m━━━━━━━━━━━━━━━━━━━━\u001b[0m\u001b[37m\u001b[0m \u001b[1m1s\u001b[0m 2ms/step - accuracy: 0.8637 - loss: 0.4615\n",
      "Epoch 62/10000\n",
      "\u001b[1m391/391\u001b[0m \u001b[32m━━━━━━━━━━━━━━━━━━━━\u001b[0m\u001b[37m\u001b[0m \u001b[1m1s\u001b[0m 2ms/step - accuracy: 0.8659 - loss: 0.4701\n",
      "Epoch 63/10000\n",
      "\u001b[1m391/391\u001b[0m \u001b[32m━━━━━━━━━━━━━━━━━━━━\u001b[0m\u001b[37m\u001b[0m \u001b[1m1s\u001b[0m 2ms/step - accuracy: 0.8632 - loss: 0.4673\n",
      "Epoch 64/10000\n",
      "\u001b[1m391/391\u001b[0m \u001b[32m━━━━━━━━━━━━━━━━━━━━\u001b[0m\u001b[37m\u001b[0m \u001b[1m1s\u001b[0m 1ms/step - accuracy: 0.8655 - loss: 0.4651\n",
      "Epoch 65/10000\n",
      "\u001b[1m391/391\u001b[0m \u001b[32m━━━━━━━━━━━━━━━━━━━━\u001b[0m\u001b[37m\u001b[0m \u001b[1m1s\u001b[0m 2ms/step - accuracy: 0.8652 - loss: 0.4609\n",
      "Epoch 66/10000\n",
      "\u001b[1m391/391\u001b[0m \u001b[32m━━━━━━━━━━━━━━━━━━━━\u001b[0m\u001b[37m\u001b[0m \u001b[1m1s\u001b[0m 2ms/step - accuracy: 0.8656 - loss: 0.4673\n",
      "Epoch 67/10000\n",
      "\u001b[1m391/391\u001b[0m \u001b[32m━━━━━━━━━━━━━━━━━━━━\u001b[0m\u001b[37m\u001b[0m \u001b[1m1s\u001b[0m 2ms/step - accuracy: 0.8667 - loss: 0.4585\n",
      "Epoch 68/10000\n",
      "\u001b[1m391/391\u001b[0m \u001b[32m━━━━━━━━━━━━━━━━━━━━\u001b[0m\u001b[37m\u001b[0m \u001b[1m1s\u001b[0m 2ms/step - accuracy: 0.8660 - loss: 0.4553\n",
      "Epoch 69/10000\n",
      "\u001b[1m391/391\u001b[0m \u001b[32m━━━━━━━━━━━━━━━━━━━━\u001b[0m\u001b[37m\u001b[0m \u001b[1m1s\u001b[0m 2ms/step - accuracy: 0.8648 - loss: 0.4668\n",
      "Epoch 70/10000\n",
      "\u001b[1m391/391\u001b[0m \u001b[32m━━━━━━━━━━━━━━━━━━━━\u001b[0m\u001b[37m\u001b[0m \u001b[1m1s\u001b[0m 2ms/step - accuracy: 0.8685 - loss: 0.4520\n",
      "Epoch 71/10000\n",
      "\u001b[1m391/391\u001b[0m \u001b[32m━━━━━━━━━━━━━━━━━━━━\u001b[0m\u001b[37m\u001b[0m \u001b[1m1s\u001b[0m 2ms/step - accuracy: 0.8629 - loss: 0.4702\n",
      "Epoch 72/10000\n",
      "\u001b[1m391/391\u001b[0m \u001b[32m━━━━━━━━━━━━━━━━━━━━\u001b[0m\u001b[37m\u001b[0m \u001b[1m1s\u001b[0m 2ms/step - accuracy: 0.8652 - loss: 0.4600\n",
      "Epoch 73/10000\n",
      "\u001b[1m391/391\u001b[0m \u001b[32m━━━━━━━━━━━━━━━━━━━━\u001b[0m\u001b[37m\u001b[0m \u001b[1m1s\u001b[0m 2ms/step - accuracy: 0.8701 - loss: 0.4512\n",
      "Epoch 74/10000\n",
      "\u001b[1m391/391\u001b[0m \u001b[32m━━━━━━━━━━━━━━━━━━━━\u001b[0m\u001b[37m\u001b[0m \u001b[1m1s\u001b[0m 2ms/step - accuracy: 0.8626 - loss: 0.4680\n",
      "Epoch 75/10000\n",
      "\u001b[1m391/391\u001b[0m \u001b[32m━━━━━━━━━━━━━━━━━━━━\u001b[0m\u001b[37m\u001b[0m \u001b[1m1s\u001b[0m 1ms/step - accuracy: 0.8670 - loss: 0.4645\n",
      "Epoch 76/10000\n",
      "\u001b[1m391/391\u001b[0m \u001b[32m━━━━━━━━━━━━━━━━━━━━\u001b[0m\u001b[37m\u001b[0m \u001b[1m1s\u001b[0m 2ms/step - accuracy: 0.8647 - loss: 0.4627\n",
      "Epoch 77/10000\n",
      "\u001b[1m391/391\u001b[0m \u001b[32m━━━━━━━━━━━━━━━━━━━━\u001b[0m\u001b[37m\u001b[0m \u001b[1m1s\u001b[0m 1ms/step - accuracy: 0.8636 - loss: 0.4724\n",
      "Epoch 78/10000\n",
      "\u001b[1m391/391\u001b[0m \u001b[32m━━━━━━━━━━━━━━━━━━━━\u001b[0m\u001b[37m\u001b[0m \u001b[1m1s\u001b[0m 1ms/step - accuracy: 0.8655 - loss: 0.4660\n",
      "Epoch 79/10000\n",
      "\u001b[1m391/391\u001b[0m \u001b[32m━━━━━━━━━━━━━━━━━━━━\u001b[0m\u001b[37m\u001b[0m \u001b[1m1s\u001b[0m 2ms/step - accuracy: 0.8650 - loss: 0.4645\n",
      "Epoch 80/10000\n",
      "\u001b[1m391/391\u001b[0m \u001b[32m━━━━━━━━━━━━━━━━━━━━\u001b[0m\u001b[37m\u001b[0m \u001b[1m1s\u001b[0m 1ms/step - accuracy: 0.8651 - loss: 0.4717\n",
      "Epoch 81/10000\n",
      "\u001b[1m391/391\u001b[0m \u001b[32m━━━━━━━━━━━━━━━━━━━━\u001b[0m\u001b[37m\u001b[0m \u001b[1m1s\u001b[0m 2ms/step - accuracy: 0.8649 - loss: 0.4684\n",
      "Epoch 82/10000\n",
      "\u001b[1m391/391\u001b[0m \u001b[32m━━━━━━━━━━━━━━━━━━━━\u001b[0m\u001b[37m\u001b[0m \u001b[1m1s\u001b[0m 1ms/step - accuracy: 0.8675 - loss: 0.4601\n",
      "Epoch 83/10000\n",
      "\u001b[1m391/391\u001b[0m \u001b[32m━━━━━━━━━━━━━━━━━━━━\u001b[0m\u001b[37m\u001b[0m \u001b[1m1s\u001b[0m 1ms/step - accuracy: 0.8646 - loss: 0.4656\n",
      "Epoch 84/10000\n",
      "\u001b[1m391/391\u001b[0m \u001b[32m━━━━━━━━━━━━━━━━━━━━\u001b[0m\u001b[37m\u001b[0m \u001b[1m1s\u001b[0m 1ms/step - accuracy: 0.8660 - loss: 0.4544\n",
      "Epoch 85/10000\n",
      "\u001b[1m391/391\u001b[0m \u001b[32m━━━━━━━━━━━━━━━━━━━━\u001b[0m\u001b[37m\u001b[0m \u001b[1m1s\u001b[0m 1ms/step - accuracy: 0.8650 - loss: 0.4652\n",
      "Epoch 86/10000\n",
      "\u001b[1m391/391\u001b[0m \u001b[32m━━━━━━━━━━━━━━━━━━━━\u001b[0m\u001b[37m\u001b[0m \u001b[1m1s\u001b[0m 1ms/step - accuracy: 0.8641 - loss: 0.4665\n",
      "Epoch 87/10000\n",
      "\u001b[1m391/391\u001b[0m \u001b[32m━━━━━━━━━━━━━━━━━━━━\u001b[0m\u001b[37m\u001b[0m \u001b[1m1s\u001b[0m 1ms/step - accuracy: 0.8688 - loss: 0.4585\n",
      "Epoch 88/10000\n",
      "\u001b[1m391/391\u001b[0m \u001b[32m━━━━━━━━━━━━━━━━━━━━\u001b[0m\u001b[37m\u001b[0m \u001b[1m1s\u001b[0m 2ms/step - accuracy: 0.8679 - loss: 0.4629\n",
      "Epoch 89/10000\n",
      "\u001b[1m391/391\u001b[0m \u001b[32m━━━━━━━━━━━━━━━━━━━━\u001b[0m\u001b[37m\u001b[0m \u001b[1m1s\u001b[0m 1ms/step - accuracy: 0.8669 - loss: 0.4594\n",
      "Epoch 90/10000\n",
      "\u001b[1m391/391\u001b[0m \u001b[32m━━━━━━━━━━━━━━━━━━━━\u001b[0m\u001b[37m\u001b[0m \u001b[1m1s\u001b[0m 1ms/step - accuracy: 0.8658 - loss: 0.4613\n",
      "Epoch 91/10000\n",
      "\u001b[1m391/391\u001b[0m \u001b[32m━━━━━━━━━━━━━━━━━━━━\u001b[0m\u001b[37m\u001b[0m \u001b[1m1s\u001b[0m 1ms/step - accuracy: 0.8703 - loss: 0.4534\n",
      "Epoch 92/10000\n",
      "\u001b[1m391/391\u001b[0m \u001b[32m━━━━━━━━━━━━━━━━━━━━\u001b[0m\u001b[37m\u001b[0m \u001b[1m1s\u001b[0m 1ms/step - accuracy: 0.8689 - loss: 0.4557\n",
      "Epoch 93/10000\n",
      "\u001b[1m391/391\u001b[0m \u001b[32m━━━━━━━━━━━━━━━━━━━━\u001b[0m\u001b[37m\u001b[0m \u001b[1m1s\u001b[0m 1ms/step - accuracy: 0.8680 - loss: 0.4547\n",
      "Epoch 94/10000\n",
      "\u001b[1m391/391\u001b[0m \u001b[32m━━━━━━━━━━━━━━━━━━━━\u001b[0m\u001b[37m\u001b[0m \u001b[1m1s\u001b[0m 2ms/step - accuracy: 0.8657 - loss: 0.4611\n",
      "Epoch 95/10000\n",
      "\u001b[1m391/391\u001b[0m \u001b[32m━━━━━━━━━━━━━━━━━━━━\u001b[0m\u001b[37m\u001b[0m \u001b[1m1s\u001b[0m 1ms/step - accuracy: 0.8692 - loss: 0.4591\n",
      "Epoch 96/10000\n",
      "\u001b[1m391/391\u001b[0m \u001b[32m━━━━━━━━━━━━━━━━━━━━\u001b[0m\u001b[37m\u001b[0m \u001b[1m1s\u001b[0m 2ms/step - accuracy: 0.8624 - loss: 0.4638\n",
      "Epoch 97/10000\n",
      "\u001b[1m391/391\u001b[0m \u001b[32m━━━━━━━━━━━━━━━━━━━━\u001b[0m\u001b[37m\u001b[0m \u001b[1m1s\u001b[0m 2ms/step - accuracy: 0.8694 - loss: 0.4526\n",
      "Epoch 98/10000\n",
      "\u001b[1m391/391\u001b[0m \u001b[32m━━━━━━━━━━━━━━━━━━━━\u001b[0m\u001b[37m\u001b[0m \u001b[1m1s\u001b[0m 1ms/step - accuracy: 0.8667 - loss: 0.4554\n",
      "Epoch 99/10000\n",
      "\u001b[1m391/391\u001b[0m \u001b[32m━━━━━━━━━━━━━━━━━━━━\u001b[0m\u001b[37m\u001b[0m \u001b[1m1s\u001b[0m 1ms/step - accuracy: 0.8682 - loss: 0.4525\n",
      "Epoch 100/10000\n",
      "\u001b[1m391/391\u001b[0m \u001b[32m━━━━━━━━━━━━━━━━━━━━\u001b[0m\u001b[37m\u001b[0m \u001b[1m1s\u001b[0m 2ms/step - accuracy: 0.8692 - loss: 0.4506\n",
      "Epoch 101/10000\n",
      "\u001b[1m391/391\u001b[0m \u001b[32m━━━━━━━━━━━━━━━━━━━━\u001b[0m\u001b[37m\u001b[0m \u001b[1m1s\u001b[0m 1ms/step - accuracy: 0.8686 - loss: 0.4550\n",
      "Epoch 102/10000\n",
      "\u001b[1m391/391\u001b[0m \u001b[32m━━━━━━━━━━━━━━━━━━━━\u001b[0m\u001b[37m\u001b[0m \u001b[1m1s\u001b[0m 1ms/step - accuracy: 0.8679 - loss: 0.4523\n",
      "Epoch 103/10000\n",
      "\u001b[1m391/391\u001b[0m \u001b[32m━━━━━━━━━━━━━━━━━━━━\u001b[0m\u001b[37m\u001b[0m \u001b[1m1s\u001b[0m 1ms/step - accuracy: 0.8684 - loss: 0.4594\n",
      "Epoch 104/10000\n",
      "\u001b[1m391/391\u001b[0m \u001b[32m━━━━━━━━━━━━━━━━━━━━\u001b[0m\u001b[37m\u001b[0m \u001b[1m1s\u001b[0m 2ms/step - accuracy: 0.8653 - loss: 0.4639\n",
      "Epoch 105/10000\n",
      "\u001b[1m391/391\u001b[0m \u001b[32m━━━━━━━━━━━━━━━━━━━━\u001b[0m\u001b[37m\u001b[0m \u001b[1m1s\u001b[0m 1ms/step - accuracy: 0.8659 - loss: 0.4598\n",
      "Epoch 106/10000\n",
      "\u001b[1m391/391\u001b[0m \u001b[32m━━━━━━━━━━━━━━━━━━━━\u001b[0m\u001b[37m\u001b[0m \u001b[1m1s\u001b[0m 1ms/step - accuracy: 0.8682 - loss: 0.4498\n",
      "Epoch 107/10000\n",
      "\u001b[1m391/391\u001b[0m \u001b[32m━━━━━━━━━━━━━━━━━━━━\u001b[0m\u001b[37m\u001b[0m \u001b[1m1s\u001b[0m 2ms/step - accuracy: 0.8682 - loss: 0.4510\n",
      "Epoch 108/10000\n",
      "\u001b[1m391/391\u001b[0m \u001b[32m━━━━━━━━━━━━━━━━━━━━\u001b[0m\u001b[37m\u001b[0m \u001b[1m1s\u001b[0m 2ms/step - accuracy: 0.8697 - loss: 0.4562\n",
      "Epoch 109/10000\n",
      "\u001b[1m391/391\u001b[0m \u001b[32m━━━━━━━━━━━━━━━━━━━━\u001b[0m\u001b[37m\u001b[0m \u001b[1m1s\u001b[0m 1ms/step - accuracy: 0.8675 - loss: 0.4556\n",
      "Epoch 110/10000\n",
      "\u001b[1m391/391\u001b[0m \u001b[32m━━━━━━━━━━━━━━━━━━━━\u001b[0m\u001b[37m\u001b[0m \u001b[1m1s\u001b[0m 2ms/step - accuracy: 0.8675 - loss: 0.4576\n",
      "Epoch 111/10000\n",
      "\u001b[1m391/391\u001b[0m \u001b[32m━━━━━━━━━━━━━━━━━━━━\u001b[0m\u001b[37m\u001b[0m \u001b[1m1s\u001b[0m 2ms/step - accuracy: 0.8700 - loss: 0.4604\n",
      "Epoch 112/10000\n",
      "\u001b[1m391/391\u001b[0m \u001b[32m━━━━━━━━━━━━━━━━━━━━\u001b[0m\u001b[37m\u001b[0m \u001b[1m1s\u001b[0m 2ms/step - accuracy: 0.8701 - loss: 0.4526\n",
      "Epoch 113/10000\n",
      "\u001b[1m391/391\u001b[0m \u001b[32m━━━━━━━━━━━━━━━━━━━━\u001b[0m\u001b[37m\u001b[0m \u001b[1m1s\u001b[0m 2ms/step - accuracy: 0.8677 - loss: 0.4574\n",
      "Epoch 114/10000\n",
      "\u001b[1m391/391\u001b[0m \u001b[32m━━━━━━━━━━━━━━━━━━━━\u001b[0m\u001b[37m\u001b[0m \u001b[1m1s\u001b[0m 1ms/step - accuracy: 0.8682 - loss: 0.4527\n",
      "Epoch 115/10000\n",
      "\u001b[1m391/391\u001b[0m \u001b[32m━━━━━━━━━━━━━━━━━━━━\u001b[0m\u001b[37m\u001b[0m \u001b[1m1s\u001b[0m 1ms/step - accuracy: 0.8701 - loss: 0.4464\n",
      "Epoch 116/10000\n",
      "\u001b[1m391/391\u001b[0m \u001b[32m━━━━━━━━━━━━━━━━━━━━\u001b[0m\u001b[37m\u001b[0m \u001b[1m1s\u001b[0m 1ms/step - accuracy: 0.8688 - loss: 0.4522\n",
      "Epoch 117/10000\n",
      "\u001b[1m391/391\u001b[0m \u001b[32m━━━━━━━━━━━━━━━━━━━━\u001b[0m\u001b[37m\u001b[0m \u001b[1m1s\u001b[0m 2ms/step - accuracy: 0.8719 - loss: 0.4436\n",
      "Epoch 118/10000\n",
      "\u001b[1m391/391\u001b[0m \u001b[32m━━━━━━━━━━━━━━━━━━━━\u001b[0m\u001b[37m\u001b[0m \u001b[1m1s\u001b[0m 1ms/step - accuracy: 0.8702 - loss: 0.4510\n",
      "Epoch 119/10000\n",
      "\u001b[1m391/391\u001b[0m \u001b[32m━━━━━━━━━━━━━━━━━━━━\u001b[0m\u001b[37m\u001b[0m \u001b[1m1s\u001b[0m 1ms/step - accuracy: 0.8701 - loss: 0.4530\n",
      "Epoch 120/10000\n",
      "\u001b[1m391/391\u001b[0m \u001b[32m━━━━━━━━━━━━━━━━━━━━\u001b[0m\u001b[37m\u001b[0m \u001b[1m1s\u001b[0m 1ms/step - accuracy: 0.8702 - loss: 0.4582\n",
      "Epoch 121/10000\n",
      "\u001b[1m391/391\u001b[0m \u001b[32m━━━━━━━━━━━━━━━━━━━━\u001b[0m\u001b[37m\u001b[0m \u001b[1m1s\u001b[0m 2ms/step - accuracy: 0.8711 - loss: 0.4501\n",
      "Epoch 122/10000\n",
      "\u001b[1m391/391\u001b[0m \u001b[32m━━━━━━━━━━━━━━━━━━━━\u001b[0m\u001b[37m\u001b[0m \u001b[1m1s\u001b[0m 2ms/step - accuracy: 0.8706 - loss: 0.4459\n",
      "Epoch 123/10000\n",
      "\u001b[1m391/391\u001b[0m \u001b[32m━━━━━━━━━━━━━━━━━━━━\u001b[0m\u001b[37m\u001b[0m \u001b[1m1s\u001b[0m 1ms/step - accuracy: 0.8681 - loss: 0.4524\n",
      "Epoch 124/10000\n",
      "\u001b[1m391/391\u001b[0m \u001b[32m━━━━━━━━━━━━━━━━━━━━\u001b[0m\u001b[37m\u001b[0m \u001b[1m1s\u001b[0m 1ms/step - accuracy: 0.8728 - loss: 0.4401\n",
      "Epoch 125/10000\n",
      "\u001b[1m391/391\u001b[0m \u001b[32m━━━━━━━━━━━━━━━━━━━━\u001b[0m\u001b[37m\u001b[0m \u001b[1m1s\u001b[0m 2ms/step - accuracy: 0.8681 - loss: 0.4496\n",
      "Epoch 126/10000\n",
      "\u001b[1m391/391\u001b[0m \u001b[32m━━━━━━━━━━━━━━━━━━━━\u001b[0m\u001b[37m\u001b[0m \u001b[1m1s\u001b[0m 2ms/step - accuracy: 0.8687 - loss: 0.4512\n",
      "Epoch 127/10000\n",
      "\u001b[1m391/391\u001b[0m \u001b[32m━━━━━━━━━━━━━━━━━━━━\u001b[0m\u001b[37m\u001b[0m \u001b[1m1s\u001b[0m 2ms/step - accuracy: 0.8695 - loss: 0.4530\n",
      "Epoch 128/10000\n",
      "\u001b[1m391/391\u001b[0m \u001b[32m━━━━━━━━━━━━━━━━━━━━\u001b[0m\u001b[37m\u001b[0m \u001b[1m1s\u001b[0m 1ms/step - accuracy: 0.8662 - loss: 0.4576\n",
      "Epoch 129/10000\n",
      "\u001b[1m391/391\u001b[0m \u001b[32m━━━━━━━━━━━━━━━━━━━━\u001b[0m\u001b[37m\u001b[0m \u001b[1m1s\u001b[0m 2ms/step - accuracy: 0.8685 - loss: 0.4469\n",
      "Epoch 130/10000\n",
      "\u001b[1m391/391\u001b[0m \u001b[32m━━━━━━━━━━━━━━━━━━━━\u001b[0m\u001b[37m\u001b[0m \u001b[1m1s\u001b[0m 2ms/step - accuracy: 0.8688 - loss: 0.4473\n",
      "Epoch 131/10000\n",
      "\u001b[1m391/391\u001b[0m \u001b[32m━━━━━━━━━━━━━━━━━━━━\u001b[0m\u001b[37m\u001b[0m \u001b[1m1s\u001b[0m 1ms/step - accuracy: 0.8668 - loss: 0.4565\n",
      "Epoch 132/10000\n",
      "\u001b[1m391/391\u001b[0m \u001b[32m━━━━━━━━━━━━━━━━━━━━\u001b[0m\u001b[37m\u001b[0m \u001b[1m1s\u001b[0m 1ms/step - accuracy: 0.8711 - loss: 0.4505\n",
      "Epoch 133/10000\n",
      "\u001b[1m391/391\u001b[0m \u001b[32m━━━━━━━━━━━━━━━━━━━━\u001b[0m\u001b[37m\u001b[0m \u001b[1m1s\u001b[0m 1ms/step - accuracy: 0.8713 - loss: 0.4485\n",
      "Epoch 134/10000\n",
      "\u001b[1m391/391\u001b[0m \u001b[32m━━━━━━━━━━━━━━━━━━━━\u001b[0m\u001b[37m\u001b[0m \u001b[1m1s\u001b[0m 2ms/step - accuracy: 0.8734 - loss: 0.4395\n",
      "Epoch 135/10000\n",
      "\u001b[1m391/391\u001b[0m \u001b[32m━━━━━━━━━━━━━━━━━━━━\u001b[0m\u001b[37m\u001b[0m \u001b[1m1s\u001b[0m 2ms/step - accuracy: 0.8724 - loss: 0.4416\n",
      "Epoch 136/10000\n",
      "\u001b[1m391/391\u001b[0m \u001b[32m━━━━━━━━━━━━━━━━━━━━\u001b[0m\u001b[37m\u001b[0m \u001b[1m1s\u001b[0m 2ms/step - accuracy: 0.8716 - loss: 0.4488\n",
      "Epoch 137/10000\n",
      "\u001b[1m391/391\u001b[0m \u001b[32m━━━━━━━━━━━━━━━━━━━━\u001b[0m\u001b[37m\u001b[0m \u001b[1m1s\u001b[0m 1ms/step - accuracy: 0.8722 - loss: 0.4473\n",
      "Epoch 138/10000\n",
      "\u001b[1m391/391\u001b[0m \u001b[32m━━━━━━━━━━━━━━━━━━━━\u001b[0m\u001b[37m\u001b[0m \u001b[1m1s\u001b[0m 2ms/step - accuracy: 0.8709 - loss: 0.4575\n",
      "Epoch 139/10000\n",
      "\u001b[1m391/391\u001b[0m \u001b[32m━━━━━━━━━━━━━━━━━━━━\u001b[0m\u001b[37m\u001b[0m \u001b[1m1s\u001b[0m 2ms/step - accuracy: 0.8722 - loss: 0.4461\n",
      "Epoch 140/10000\n",
      "\u001b[1m391/391\u001b[0m \u001b[32m━━━━━━━━━━━━━━━━━━━━\u001b[0m\u001b[37m\u001b[0m \u001b[1m1s\u001b[0m 2ms/step - accuracy: 0.8715 - loss: 0.4423\n",
      "Epoch 141/10000\n",
      "\u001b[1m391/391\u001b[0m \u001b[32m━━━━━━━━━━━━━━━━━━━━\u001b[0m\u001b[37m\u001b[0m \u001b[1m1s\u001b[0m 1ms/step - accuracy: 0.8696 - loss: 0.4458\n",
      "Epoch 142/10000\n",
      "\u001b[1m391/391\u001b[0m \u001b[32m━━━━━━━━━━━━━━━━━━━━\u001b[0m\u001b[37m\u001b[0m \u001b[1m1s\u001b[0m 2ms/step - accuracy: 0.8715 - loss: 0.4386\n",
      "Epoch 143/10000\n",
      "\u001b[1m391/391\u001b[0m \u001b[32m━━━━━━━━━━━━━━━━━━━━\u001b[0m\u001b[37m\u001b[0m \u001b[1m1s\u001b[0m 2ms/step - accuracy: 0.8746 - loss: 0.4348\n",
      "Epoch 144/10000\n",
      "\u001b[1m391/391\u001b[0m \u001b[32m━━━━━━━━━━━━━━━━━━━━\u001b[0m\u001b[37m\u001b[0m \u001b[1m1s\u001b[0m 2ms/step - accuracy: 0.8688 - loss: 0.4419\n",
      "Epoch 145/10000\n",
      "\u001b[1m391/391\u001b[0m \u001b[32m━━━━━━━━━━━━━━━━━━━━\u001b[0m\u001b[37m\u001b[0m \u001b[1m1s\u001b[0m 2ms/step - accuracy: 0.8696 - loss: 0.4463\n",
      "Epoch 146/10000\n",
      "\u001b[1m391/391\u001b[0m \u001b[32m━━━━━━━━━━━━━━━━━━━━\u001b[0m\u001b[37m\u001b[0m \u001b[1m1s\u001b[0m 2ms/step - accuracy: 0.8674 - loss: 0.4531\n",
      "Epoch 147/10000\n",
      "\u001b[1m391/391\u001b[0m \u001b[32m━━━━━━━━━━━━━━━━━━━━\u001b[0m\u001b[37m\u001b[0m \u001b[1m1s\u001b[0m 2ms/step - accuracy: 0.8709 - loss: 0.4459\n",
      "Epoch 148/10000\n",
      "\u001b[1m391/391\u001b[0m \u001b[32m━━━━━━━━━━━━━━━━━━━━\u001b[0m\u001b[37m\u001b[0m \u001b[1m1s\u001b[0m 2ms/step - accuracy: 0.8719 - loss: 0.4382\n",
      "Epoch 149/10000\n",
      "\u001b[1m391/391\u001b[0m \u001b[32m━━━━━━━━━━━━━━━━━━━━\u001b[0m\u001b[37m\u001b[0m \u001b[1m1s\u001b[0m 2ms/step - accuracy: 0.8692 - loss: 0.4421\n",
      "Epoch 150/10000\n",
      "\u001b[1m391/391\u001b[0m \u001b[32m━━━━━━━━━━━━━━━━━━━━\u001b[0m\u001b[37m\u001b[0m \u001b[1m1s\u001b[0m 1ms/step - accuracy: 0.8704 - loss: 0.4507\n",
      "Epoch 151/10000\n",
      "\u001b[1m391/391\u001b[0m \u001b[32m━━━━━━━━━━━━━━━━━━━━\u001b[0m\u001b[37m\u001b[0m \u001b[1m1s\u001b[0m 2ms/step - accuracy: 0.8731 - loss: 0.4407\n",
      "Epoch 152/10000\n",
      "\u001b[1m391/391\u001b[0m \u001b[32m━━━━━━━━━━━━━━━━━━━━\u001b[0m\u001b[37m\u001b[0m \u001b[1m1s\u001b[0m 2ms/step - accuracy: 0.8718 - loss: 0.4432\n",
      "Epoch 153/10000\n",
      "\u001b[1m391/391\u001b[0m \u001b[32m━━━━━━━━━━━━━━━━━━━━\u001b[0m\u001b[37m\u001b[0m \u001b[1m1s\u001b[0m 1ms/step - accuracy: 0.8708 - loss: 0.4437\n",
      "Epoch 154/10000\n",
      "\u001b[1m391/391\u001b[0m \u001b[32m━━━━━━━━━━━━━━━━━━━━\u001b[0m\u001b[37m\u001b[0m \u001b[1m1s\u001b[0m 2ms/step - accuracy: 0.8725 - loss: 0.4419\n",
      "Epoch 155/10000\n",
      "\u001b[1m391/391\u001b[0m \u001b[32m━━━━━━━━━━━━━━━━━━━━\u001b[0m\u001b[37m\u001b[0m \u001b[1m1s\u001b[0m 2ms/step - accuracy: 0.8704 - loss: 0.4420\n",
      "Epoch 156/10000\n",
      "\u001b[1m391/391\u001b[0m \u001b[32m━━━━━━━━━━━━━━━━━━━━\u001b[0m\u001b[37m\u001b[0m \u001b[1m1s\u001b[0m 2ms/step - accuracy: 0.8690 - loss: 0.4526\n",
      "Epoch 157/10000\n",
      "\u001b[1m 28/391\u001b[0m \u001b[32m━\u001b[0m\u001b[37m━━━━━━━━━━━━━━━━━━━\u001b[0m \u001b[1m0s\u001b[0m 2ms/step - accuracy: 0.8634 - loss: 0.4429 "
     ]
    }
   ],
   "source": [
    "model_history = model.fit(new_train_images_float, new_train_labels, epochs=10000, batch_size=128)"
   ]
  },
  {
   "cell_type": "code",
   "execution_count": null,
   "id": "61a14d41-85fe-4bea-93b7-750a4ed74162",
   "metadata": {},
   "outputs": [],
   "source": [
    "model_history.history['accuracy']"
   ]
  },
  {
   "cell_type": "code",
   "execution_count": null,
   "id": "f13f8317-6396-4f08-9e19-5dea7aee8d52",
   "metadata": {},
   "outputs": [],
   "source": [
    "model_history.history['loss']"
   ]
  },
  {
   "cell_type": "code",
   "execution_count": 345,
   "id": "8a7f9558-0b60-47c4-97c8-77a3dd79957b",
   "metadata": {},
   "outputs": [],
   "source": [
    "accuracy = model_history.history['accuracy'][100:]"
   ]
  },
  {
   "cell_type": "code",
   "execution_count": 346,
   "id": "7c6f8be5-17d2-4aa0-953a-d3a39e258379",
   "metadata": {},
   "outputs": [],
   "source": [
    "loss = model_history.history['loss'][100:]"
   ]
  },
  {
   "cell_type": "code",
   "execution_count": 348,
   "id": "ac74c3fe-7679-47f9-aba9-28a40ad30a8d",
   "metadata": {},
   "outputs": [
    {
     "data": {
      "text/plain": [
       "<matplotlib.legend.Legend at 0x7f99f3a20200>"
      ]
     },
     "execution_count": 348,
     "metadata": {},
     "output_type": "execute_result"
    },
    {
     "data": {
      "image/png": "[encoded data removed]",
      "text/plain": [
       "<Figure size 640x480 with 2 Axes>"
      ]
     },
     "metadata": {},
     "output_type": "display_data"
    }
   ],
   "source": [
    "fig, ax = plt.subplots(1, 1)\n",
    "ax.plot(accuracy, label='accuracy')\n",
    "ax2 = ax.twinx()\n",
    "ax2.plot(loss, color='tab:orange', label='loss')\n",
    "fig.legend()"
   ]
  },
  {
   "cell_type": "code",
   "execution_count": 161,
   "id": "b10c9859-603d-413e-b390-ec1d792bb9be",
   "metadata": {},
   "outputs": [
    {
     "data": {
      "text/plain": [
       "784"
      ]
     },
     "execution_count": 161,
     "metadata": {},
     "output_type": "execute_result"
    }
   ],
   "source": [
    "28*28"
   ]
  },
  {
   "cell_type": "code",
   "execution_count": 312,
   "id": "0df574b3-404e-4ea0-bfd2-46aee123931b",
   "metadata": {},
   "outputs": [
    {
     "name": "stdout",
     "output_type": "stream",
     "text": [
      "\u001b[1m1563/1563\u001b[0m \u001b[32m━━━━━━━━━━━━━━━━━━━━\u001b[0m\u001b[37m\u001b[0m \u001b[1m2s\u001b[0m 1ms/step\n"
     ]
    }
   ],
   "source": [
    "# check the training dataset, not the test dataset\n",
    "test_digits = new_train_images_float #[0:3] # test all!\n",
    "predictions = model.predict(test_digits)"
   ]
  },
  {
   "cell_type": "code",
   "execution_count": 313,
   "id": "52c730e8-0497-4f68-aef8-b0d381e7f51e",
   "metadata": {},
   "outputs": [
    {
     "data": {
      "text/plain": [
       "(50000, 10)"
      ]
     },
     "execution_count": 313,
     "metadata": {},
     "output_type": "execute_result"
    }
   ],
   "source": [
    "predictions.shape"
   ]
  },
  {
   "cell_type": "code",
   "execution_count": 314,
   "id": "7bb7a801-9620-4c54-9359-b67600003e78",
   "metadata": {},
   "outputs": [
    {
     "name": "stdout",
     "output_type": "stream",
     "text": [
      "0.0, 0.0, 1.0, 0.0, 0.0, 0.0, 0.0, 0.0, 0.0, 0.0, \n",
      "0.0, 0.0, 2.5064479e-20, 0.0, 1.0, 0.0, 1.0644088e-31, 3.7142803e-27, 0.0, 4.2796948e-35, \n",
      "0.0, 0.0, 1.0, 2.1913544e-29, 0.0, 0.0, 0.0, 5.1067813e-23, 0.0, 0.0, \n"
     ]
    }
   ],
   "source": [
    "for prediction in predictions[0:3]:\n",
    "    for v in prediction:\n",
    "        print(v, end=', ')\n",
    "    print('')"
   ]
  },
  {
   "cell_type": "code",
   "execution_count": 315,
   "id": "2de478b9-ba2f-4fa2-b40e-3daa9524bae1",
   "metadata": {},
   "outputs": [],
   "source": [
    "# this array contains the predicted digit value\n",
    "predictions_argmax = predictions.argmax(axis=1)"
   ]
  },
  {
   "cell_type": "code",
   "execution_count": 316,
   "id": "15ecaa45-b4e1-4e12-bff5-a7a73af6e113",
   "metadata": {},
   "outputs": [
    {
     "data": {
      "text/plain": [
       "(50000,)"
      ]
     },
     "execution_count": 316,
     "metadata": {},
     "output_type": "execute_result"
    }
   ],
   "source": [
    "predictions_argmax.shape"
   ]
  },
  {
   "cell_type": "code",
   "execution_count": 317,
   "id": "257bc709-d6e7-442e-adfd-418eda6f354d",
   "metadata": {},
   "outputs": [
    {
     "data": {
      "text/plain": [
       "array([2, 4, 2])"
      ]
     },
     "execution_count": 317,
     "metadata": {},
     "output_type": "execute_result"
    }
   ],
   "source": [
    "# for example: [2, 4, 2, 9, 9, 3, ...] means the digits should be\n",
    "# 2, 4, 2, 9, 9, 3, ...\n",
    "predictions_argmax[0:3]"
   ]
  },
  {
   "cell_type": "code",
   "execution_count": 318,
   "id": "2c632a3f-e17e-4e6e-a296-cc171e145018",
   "metadata": {},
   "outputs": [
    {
     "name": "stdout",
     "output_type": "stream",
     "text": [
      "1.0\n",
      "1.0\n",
      "1.0\n"
     ]
    }
   ],
   "source": [
    "for i, arg in enumerate(predictions.argmax(axis=1)[0:3]):\n",
    "    print(predictions[i, arg])"
   ]
  },
  {
   "cell_type": "code",
   "execution_count": 319,
   "id": "62d3050c-46bd-4bce-877c-38306010dc7b",
   "metadata": {},
   "outputs": [],
   "source": [
    "predictions_max_probability = predictions[numpy.arange(len(predictions)), predictions.argmax(axis=1)]"
   ]
  },
  {
   "cell_type": "code",
   "execution_count": 320,
   "id": "e37aa99c-55c2-4446-9fa8-0336626e8887",
   "metadata": {},
   "outputs": [
    {
     "data": {
      "text/plain": [
       "array([1., 1., 1., ..., 1., 1., 1.], dtype=float32)"
      ]
     },
     "execution_count": 320,
     "metadata": {},
     "output_type": "execute_result"
    }
   ],
   "source": [
    "predictions_max_probability"
   ]
  },
  {
   "cell_type": "code",
   "execution_count": 321,
   "id": "20c45af9-affb-480c-a4f9-2345b9438cb5",
   "metadata": {},
   "outputs": [],
   "source": [
    "predictions_max_probability_sort_order_index = numpy.argsort(predictions_max_probability)"
   ]
  },
  {
   "cell_type": "code",
   "execution_count": 322,
   "id": "449483b3-51d5-4530-98dd-3a32646eed78",
   "metadata": {},
   "outputs": [
    {
     "data": {
      "text/plain": [
       "array([ 8064,  9001, 18921, ..., 49998, 49999,     0])"
      ]
     },
     "execution_count": 322,
     "metadata": {},
     "output_type": "execute_result"
    }
   ],
   "source": [
    "predictions_max_probability_sort_order_index"
   ]
  },
  {
   "cell_type": "code",
   "execution_count": 323,
   "id": "3ce6e2e3-c617-4bfb-a637-c0958fdc54dd",
   "metadata": {},
   "outputs": [],
   "source": [
    "predictions_max_probability_sorted = predictions_max_probability[predictions_max_probability_sort_order_index]"
   ]
  },
  {
   "cell_type": "code",
   "execution_count": 324,
   "id": "f1a72442-ec83-482e-a216-2ab9d2bc5c25",
   "metadata": {},
   "outputs": [
    {
     "data": {
      "text/plain": [
       "array([0.9999875, 0.9999902, 0.9999906, ..., 1.       , 1.       ,\n",
       "       1.       ], dtype=float32)"
      ]
     },
     "execution_count": 324,
     "metadata": {},
     "output_type": "execute_result"
    }
   ],
   "source": [
    "predictions_max_probability_sorted"
   ]
  },
  {
   "cell_type": "code",
   "execution_count": 325,
   "id": "cba2c691-a4a4-4632-8060-47b90eb57fa5",
   "metadata": {},
   "outputs": [],
   "source": [
    "predictions_argmax_sorted = predictions_argmax[predictions_max_probability_sort_order_index]"
   ]
  },
  {
   "cell_type": "code",
   "execution_count": 326,
   "id": "7e727583-5de8-4db7-a95f-dfe8d87e05ce",
   "metadata": {},
   "outputs": [
    {
     "data": {
      "text/plain": [
       "array([7, 4, 1, ..., 4, 5, 2])"
      ]
     },
     "execution_count": 326,
     "metadata": {},
     "output_type": "execute_result"
    }
   ],
   "source": [
    "predictions_argmax_sorted"
   ]
  },
  {
   "cell_type": "code",
   "execution_count": 327,
   "id": "96930e02-c843-4b51-aae5-d0682c50be20",
   "metadata": {},
   "outputs": [],
   "source": [
    "#images_sorted = (new_train_images[0:3])[predictions_max_probability_sort_order_index]\n",
    "images_sorted = new_train_images[predictions_max_probability_sort_order_index]"
   ]
  },
  {
   "cell_type": "code",
   "execution_count": 328,
   "id": "a2ff0d6c-1f70-45db-9cf5-8e8dfeb64bda",
   "metadata": {},
   "outputs": [
    {
     "data": {
      "text/plain": [
       "(50000, 28, 28)"
      ]
     },
     "execution_count": 328,
     "metadata": {},
     "output_type": "execute_result"
    }
   ],
   "source": [
    "images_sorted.shape"
   ]
  },
  {
   "cell_type": "code",
   "execution_count": 329,
   "id": "bd4bcf1b-f48b-47c6-ac92-fddba9f3a92c",
   "metadata": {},
   "outputs": [
    {
     "data": {
      "text/plain": [
       "array([ 8064,  9001, 18921, ..., 49998, 49999,     0])"
      ]
     },
     "execution_count": 329,
     "metadata": {},
     "output_type": "execute_result"
    }
   ],
   "source": [
    "images_sorted_index = numpy.arange(images_sorted.shape[0])[predictions_max_probability_sort_order_index]\n",
    "images_sorted_index"
   ]
  },
  {
   "cell_type": "code",
   "execution_count": null,
   "id": "978e43ec-e587-4617-9684-da8d180f7e11",
   "metadata": {},
   "outputs": [],
   "source": []
  },
  {
   "cell_type": "code",
   "execution_count": 330,
   "id": "5be2cdab-5aeb-4a6f-a7f6-105c3335ab0e",
   "metadata": {},
   "outputs": [],
   "source": [
    "def print_output(filename, predictions_argmax_sorted, images_sorted, images_sorted_index):\n",
    "    size_y = 100\n",
    "    size_x = 10\n",
    "\n",
    "    tmp = numpy.full((size_y*28, size_x*28), 255, dtype=numpy.uint8)\n",
    "\n",
    "    for i in range(len(predictions_argmax_sorted)):\n",
    "        prediction = predictions_argmax_sorted[i]\n",
    "        image = images_sorted[i]\n",
    "        image_index = images_sorted_index[i]\n",
    "    \n",
    "        oix_x = 28 * 0\n",
    "        oix_y = 28 * i\n",
    "\n",
    "        image_index_string = f'{image_index}'\n",
    "        for ch in image_index_string:\n",
    "            ch_int = int(ch) - int('0')\n",
    "            tmp[oix_y:oix_y+28, oix_x:oix_x+28] = new_train_images[digit_index[ch_int]]\n",
    "            oix_x += 28\n",
    "\n",
    "        oix_x = 28 * 5 # assumes max 5 chars for index\n",
    "        oix_x += 28 # leave a space\n",
    "                \n",
    "        # print the label\n",
    "        i_label = predictions_argmax_sorted[i]\n",
    "        tmp[oix_y:oix_y+28, oix_x:oix_x+28] = new_train_images[digit_index[i_label]]\n",
    "    \n",
    "        oix_x += 28 * 2\n",
    "        \n",
    "        # print the actual image observed\n",
    "        tmp[oix_y:oix_y+28, oix_x:oix_x+28] = images_sorted[i]\n",
    "    \n",
    "        oix_x = 28 * 0\n",
    "        oix_y += 28\n",
    "        \n",
    "    \n",
    "    writer = png.Writer(width=tmp.shape[1], height=tmp.shape[0], bitdepth=8, greyscale=True)\n",
    "    with open(filename, 'wb') as ofile:\n",
    "        writer.write(ofile, tmp)"
   ]
  },
  {
   "cell_type": "code",
   "execution_count": 331,
   "id": "1e13c741-8e36-495f-9a1c-6dc63ff6ab16",
   "metadata": {},
   "outputs": [],
   "source": [
    "max_count = 100\n",
    "\n",
    "print_output('first_test_output.png', predictions_argmax_sorted[0:max_count], images_sorted[0:max_count], images_sorted_index[0:max_count])"
   ]
  },
  {
   "cell_type": "code",
   "execution_count": null,
   "id": "a09b8196-e7f0-4ea8-abc1-ae712342a2a0",
   "metadata": {},
   "outputs": [],
   "source": []
  }
 ],
 "metadata": {
  "kernelspec": {
   "display_name": "Python 3 (ipykernel)",
   "language": "python",
   "name": "python3"
  },
  "language_info": {
   "codemirror_mode": {
    "name": "ipython",
    "version": 3
   },
   "file_extension": ".py",
   "mimetype": "text/x-python",
   "name": "python",
   "nbconvert_exporter": "python",
   "pygments_lexer": "ipython3",
   "version": "3.12.7"
  }
 },
 "nbformat": 4,
 "nbformat_minor": 5
}
